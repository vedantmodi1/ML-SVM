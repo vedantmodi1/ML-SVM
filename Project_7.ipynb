{
 "cells": [
  {
   "cell_type": "markdown",
   "metadata": {},
   "source": [
    "Name: Vedant Modi\n",
    "<br>\n",
    "Colonna,Juan, Nakamura,Eduardo, Cristo,Marco, and Gordo,Marcelo. (2017). Anuran Calls (MFCCs). UCI Machine Learning Repository. https://doi.org/10.24432/C5CC9H."
   ]
  },
  {
   "cell_type": "markdown",
   "metadata": {},
   "source": [
    "## 1. Multi-class and Multi-Label Classification Using Support Vector Machines"
   ]
  },
  {
   "cell_type": "markdown",
   "metadata": {},
   "source": [
    "Import packages"
   ]
  },
  {
   "cell_type": "code",
   "execution_count": 18,
   "metadata": {},
   "outputs": [],
   "source": [
    "import pandas as pd\n",
    "from sklearn.model_selection import train_test_split\n",
    "from sklearn.svm import SVC\n",
    "from sklearn.model_selection import GridSearchCV, cross_val_score\n",
    "from sklearn.preprocessing import StandardScaler\n",
    "import numpy as np\n",
    "from sklearn.svm import LinearSVC\n",
    "from imblearn.over_sampling import SMOTE\n",
    "from sklearn.multioutput import MultiOutputClassifier\n",
    "from sklearn.metrics import hamming_loss, accuracy_score\n",
    "import warnings\n",
    "from sklearn.exceptions import ConvergenceWarning\n",
    "warnings.filterwarnings(\"ignore\", category=ConvergenceWarning)\n",
    "from sklearn.cluster import KMeans\n",
    "from sklearn.metrics import silhouette_score\n",
    "from scipy.spatial.distance import hamming"
   ]
  },
  {
   "cell_type": "markdown",
   "metadata": {},
   "source": [
    "### (a) Download the Anuran Calls (MFCCs) Data Set"
   ]
  },
  {
   "cell_type": "code",
   "execution_count": 2,
   "metadata": {},
   "outputs": [
    {
     "data": {
      "text/html": [
       "<div>\n",
       "<style scoped>\n",
       "    .dataframe tbody tr th:only-of-type {\n",
       "        vertical-align: middle;\n",
       "    }\n",
       "\n",
       "    .dataframe tbody tr th {\n",
       "        vertical-align: top;\n",
       "    }\n",
       "\n",
       "    .dataframe thead th {\n",
       "        text-align: right;\n",
       "    }\n",
       "</style>\n",
       "<table border=\"1\" class=\"dataframe\">\n",
       "  <thead>\n",
       "    <tr style=\"text-align: right;\">\n",
       "      <th></th>\n",
       "      <th>MFCCs_ 1</th>\n",
       "      <th>MFCCs_ 2</th>\n",
       "      <th>MFCCs_ 3</th>\n",
       "      <th>MFCCs_ 4</th>\n",
       "      <th>MFCCs_ 5</th>\n",
       "      <th>MFCCs_ 6</th>\n",
       "      <th>MFCCs_ 7</th>\n",
       "      <th>MFCCs_ 8</th>\n",
       "      <th>MFCCs_ 9</th>\n",
       "      <th>MFCCs_10</th>\n",
       "      <th>...</th>\n",
       "      <th>MFCCs_17</th>\n",
       "      <th>MFCCs_18</th>\n",
       "      <th>MFCCs_19</th>\n",
       "      <th>MFCCs_20</th>\n",
       "      <th>MFCCs_21</th>\n",
       "      <th>MFCCs_22</th>\n",
       "      <th>Family</th>\n",
       "      <th>Genus</th>\n",
       "      <th>Species</th>\n",
       "      <th>RecordID</th>\n",
       "    </tr>\n",
       "  </thead>\n",
       "  <tbody>\n",
       "    <tr>\n",
       "      <th>0</th>\n",
       "      <td>1.0</td>\n",
       "      <td>0.152936</td>\n",
       "      <td>-0.105586</td>\n",
       "      <td>0.200722</td>\n",
       "      <td>0.317201</td>\n",
       "      <td>0.260764</td>\n",
       "      <td>0.100945</td>\n",
       "      <td>-0.150063</td>\n",
       "      <td>-0.171128</td>\n",
       "      <td>0.124676</td>\n",
       "      <td>...</td>\n",
       "      <td>-0.108351</td>\n",
       "      <td>-0.077623</td>\n",
       "      <td>-0.009568</td>\n",
       "      <td>0.057684</td>\n",
       "      <td>0.118680</td>\n",
       "      <td>0.014038</td>\n",
       "      <td>Leptodactylidae</td>\n",
       "      <td>Adenomera</td>\n",
       "      <td>AdenomeraAndre</td>\n",
       "      <td>1</td>\n",
       "    </tr>\n",
       "    <tr>\n",
       "      <th>1</th>\n",
       "      <td>1.0</td>\n",
       "      <td>0.171534</td>\n",
       "      <td>-0.098975</td>\n",
       "      <td>0.268425</td>\n",
       "      <td>0.338672</td>\n",
       "      <td>0.268353</td>\n",
       "      <td>0.060835</td>\n",
       "      <td>-0.222475</td>\n",
       "      <td>-0.207693</td>\n",
       "      <td>0.170883</td>\n",
       "      <td>...</td>\n",
       "      <td>-0.090974</td>\n",
       "      <td>-0.056510</td>\n",
       "      <td>-0.035303</td>\n",
       "      <td>0.020140</td>\n",
       "      <td>0.082263</td>\n",
       "      <td>0.029056</td>\n",
       "      <td>Leptodactylidae</td>\n",
       "      <td>Adenomera</td>\n",
       "      <td>AdenomeraAndre</td>\n",
       "      <td>1</td>\n",
       "    </tr>\n",
       "    <tr>\n",
       "      <th>2</th>\n",
       "      <td>1.0</td>\n",
       "      <td>0.152317</td>\n",
       "      <td>-0.082973</td>\n",
       "      <td>0.287128</td>\n",
       "      <td>0.276014</td>\n",
       "      <td>0.189867</td>\n",
       "      <td>0.008714</td>\n",
       "      <td>-0.242234</td>\n",
       "      <td>-0.219153</td>\n",
       "      <td>0.232538</td>\n",
       "      <td>...</td>\n",
       "      <td>-0.050691</td>\n",
       "      <td>-0.023590</td>\n",
       "      <td>-0.066722</td>\n",
       "      <td>-0.025083</td>\n",
       "      <td>0.099108</td>\n",
       "      <td>0.077162</td>\n",
       "      <td>Leptodactylidae</td>\n",
       "      <td>Adenomera</td>\n",
       "      <td>AdenomeraAndre</td>\n",
       "      <td>1</td>\n",
       "    </tr>\n",
       "    <tr>\n",
       "      <th>3</th>\n",
       "      <td>1.0</td>\n",
       "      <td>0.224392</td>\n",
       "      <td>0.118985</td>\n",
       "      <td>0.329432</td>\n",
       "      <td>0.372088</td>\n",
       "      <td>0.361005</td>\n",
       "      <td>0.015501</td>\n",
       "      <td>-0.194347</td>\n",
       "      <td>-0.098181</td>\n",
       "      <td>0.270375</td>\n",
       "      <td>...</td>\n",
       "      <td>-0.136009</td>\n",
       "      <td>-0.177037</td>\n",
       "      <td>-0.130498</td>\n",
       "      <td>-0.054766</td>\n",
       "      <td>-0.018691</td>\n",
       "      <td>0.023954</td>\n",
       "      <td>Leptodactylidae</td>\n",
       "      <td>Adenomera</td>\n",
       "      <td>AdenomeraAndre</td>\n",
       "      <td>1</td>\n",
       "    </tr>\n",
       "    <tr>\n",
       "      <th>4</th>\n",
       "      <td>1.0</td>\n",
       "      <td>0.087817</td>\n",
       "      <td>-0.068345</td>\n",
       "      <td>0.306967</td>\n",
       "      <td>0.330923</td>\n",
       "      <td>0.249144</td>\n",
       "      <td>0.006884</td>\n",
       "      <td>-0.265423</td>\n",
       "      <td>-0.172700</td>\n",
       "      <td>0.266434</td>\n",
       "      <td>...</td>\n",
       "      <td>-0.048885</td>\n",
       "      <td>-0.053074</td>\n",
       "      <td>-0.088550</td>\n",
       "      <td>-0.031346</td>\n",
       "      <td>0.108610</td>\n",
       "      <td>0.079244</td>\n",
       "      <td>Leptodactylidae</td>\n",
       "      <td>Adenomera</td>\n",
       "      <td>AdenomeraAndre</td>\n",
       "      <td>1</td>\n",
       "    </tr>\n",
       "    <tr>\n",
       "      <th>...</th>\n",
       "      <td>...</td>\n",
       "      <td>...</td>\n",
       "      <td>...</td>\n",
       "      <td>...</td>\n",
       "      <td>...</td>\n",
       "      <td>...</td>\n",
       "      <td>...</td>\n",
       "      <td>...</td>\n",
       "      <td>...</td>\n",
       "      <td>...</td>\n",
       "      <td>...</td>\n",
       "      <td>...</td>\n",
       "      <td>...</td>\n",
       "      <td>...</td>\n",
       "      <td>...</td>\n",
       "      <td>...</td>\n",
       "      <td>...</td>\n",
       "      <td>...</td>\n",
       "      <td>...</td>\n",
       "      <td>...</td>\n",
       "      <td>...</td>\n",
       "    </tr>\n",
       "    <tr>\n",
       "      <th>7190</th>\n",
       "      <td>1.0</td>\n",
       "      <td>-0.554504</td>\n",
       "      <td>-0.337717</td>\n",
       "      <td>0.035533</td>\n",
       "      <td>0.034511</td>\n",
       "      <td>0.443451</td>\n",
       "      <td>0.093889</td>\n",
       "      <td>-0.100753</td>\n",
       "      <td>0.037087</td>\n",
       "      <td>0.081075</td>\n",
       "      <td>...</td>\n",
       "      <td>0.069430</td>\n",
       "      <td>0.071001</td>\n",
       "      <td>0.021591</td>\n",
       "      <td>0.052449</td>\n",
       "      <td>-0.021860</td>\n",
       "      <td>-0.079860</td>\n",
       "      <td>Hylidae</td>\n",
       "      <td>Scinax</td>\n",
       "      <td>ScinaxRuber</td>\n",
       "      <td>60</td>\n",
       "    </tr>\n",
       "    <tr>\n",
       "      <th>7191</th>\n",
       "      <td>1.0</td>\n",
       "      <td>-0.517273</td>\n",
       "      <td>-0.370574</td>\n",
       "      <td>0.030673</td>\n",
       "      <td>0.068097</td>\n",
       "      <td>0.402890</td>\n",
       "      <td>0.096628</td>\n",
       "      <td>-0.116460</td>\n",
       "      <td>0.063727</td>\n",
       "      <td>0.089034</td>\n",
       "      <td>...</td>\n",
       "      <td>0.061127</td>\n",
       "      <td>0.068978</td>\n",
       "      <td>0.017745</td>\n",
       "      <td>0.046461</td>\n",
       "      <td>-0.015418</td>\n",
       "      <td>-0.101892</td>\n",
       "      <td>Hylidae</td>\n",
       "      <td>Scinax</td>\n",
       "      <td>ScinaxRuber</td>\n",
       "      <td>60</td>\n",
       "    </tr>\n",
       "    <tr>\n",
       "      <th>7192</th>\n",
       "      <td>1.0</td>\n",
       "      <td>-0.582557</td>\n",
       "      <td>-0.343237</td>\n",
       "      <td>0.029468</td>\n",
       "      <td>0.064179</td>\n",
       "      <td>0.385596</td>\n",
       "      <td>0.114905</td>\n",
       "      <td>-0.103317</td>\n",
       "      <td>0.070370</td>\n",
       "      <td>0.081317</td>\n",
       "      <td>...</td>\n",
       "      <td>0.082474</td>\n",
       "      <td>0.077771</td>\n",
       "      <td>-0.009688</td>\n",
       "      <td>0.027834</td>\n",
       "      <td>-0.000531</td>\n",
       "      <td>-0.080425</td>\n",
       "      <td>Hylidae</td>\n",
       "      <td>Scinax</td>\n",
       "      <td>ScinaxRuber</td>\n",
       "      <td>60</td>\n",
       "    </tr>\n",
       "    <tr>\n",
       "      <th>7193</th>\n",
       "      <td>1.0</td>\n",
       "      <td>-0.519497</td>\n",
       "      <td>-0.307553</td>\n",
       "      <td>-0.004922</td>\n",
       "      <td>0.072865</td>\n",
       "      <td>0.377131</td>\n",
       "      <td>0.086866</td>\n",
       "      <td>-0.115799</td>\n",
       "      <td>0.056979</td>\n",
       "      <td>0.089316</td>\n",
       "      <td>...</td>\n",
       "      <td>0.051796</td>\n",
       "      <td>0.069073</td>\n",
       "      <td>0.017963</td>\n",
       "      <td>0.041803</td>\n",
       "      <td>-0.027911</td>\n",
       "      <td>-0.096895</td>\n",
       "      <td>Hylidae</td>\n",
       "      <td>Scinax</td>\n",
       "      <td>ScinaxRuber</td>\n",
       "      <td>60</td>\n",
       "    </tr>\n",
       "    <tr>\n",
       "      <th>7194</th>\n",
       "      <td>1.0</td>\n",
       "      <td>-0.508833</td>\n",
       "      <td>-0.324106</td>\n",
       "      <td>0.062068</td>\n",
       "      <td>0.078211</td>\n",
       "      <td>0.397188</td>\n",
       "      <td>0.094596</td>\n",
       "      <td>-0.117672</td>\n",
       "      <td>0.058874</td>\n",
       "      <td>0.076180</td>\n",
       "      <td>...</td>\n",
       "      <td>0.061455</td>\n",
       "      <td>0.072983</td>\n",
       "      <td>-0.003980</td>\n",
       "      <td>0.031560</td>\n",
       "      <td>-0.029355</td>\n",
       "      <td>-0.087910</td>\n",
       "      <td>Hylidae</td>\n",
       "      <td>Scinax</td>\n",
       "      <td>ScinaxRuber</td>\n",
       "      <td>60</td>\n",
       "    </tr>\n",
       "  </tbody>\n",
       "</table>\n",
       "<p>7195 rows × 26 columns</p>\n",
       "</div>"
      ],
      "text/plain": [
       "      MFCCs_ 1  MFCCs_ 2  MFCCs_ 3  MFCCs_ 4  MFCCs_ 5  MFCCs_ 6  MFCCs_ 7  \\\n",
       "0          1.0  0.152936 -0.105586  0.200722  0.317201  0.260764  0.100945   \n",
       "1          1.0  0.171534 -0.098975  0.268425  0.338672  0.268353  0.060835   \n",
       "2          1.0  0.152317 -0.082973  0.287128  0.276014  0.189867  0.008714   \n",
       "3          1.0  0.224392  0.118985  0.329432  0.372088  0.361005  0.015501   \n",
       "4          1.0  0.087817 -0.068345  0.306967  0.330923  0.249144  0.006884   \n",
       "...        ...       ...       ...       ...       ...       ...       ...   \n",
       "7190       1.0 -0.554504 -0.337717  0.035533  0.034511  0.443451  0.093889   \n",
       "7191       1.0 -0.517273 -0.370574  0.030673  0.068097  0.402890  0.096628   \n",
       "7192       1.0 -0.582557 -0.343237  0.029468  0.064179  0.385596  0.114905   \n",
       "7193       1.0 -0.519497 -0.307553 -0.004922  0.072865  0.377131  0.086866   \n",
       "7194       1.0 -0.508833 -0.324106  0.062068  0.078211  0.397188  0.094596   \n",
       "\n",
       "      MFCCs_ 8  MFCCs_ 9  MFCCs_10  ...  MFCCs_17  MFCCs_18  MFCCs_19  \\\n",
       "0    -0.150063 -0.171128  0.124676  ... -0.108351 -0.077623 -0.009568   \n",
       "1    -0.222475 -0.207693  0.170883  ... -0.090974 -0.056510 -0.035303   \n",
       "2    -0.242234 -0.219153  0.232538  ... -0.050691 -0.023590 -0.066722   \n",
       "3    -0.194347 -0.098181  0.270375  ... -0.136009 -0.177037 -0.130498   \n",
       "4    -0.265423 -0.172700  0.266434  ... -0.048885 -0.053074 -0.088550   \n",
       "...        ...       ...       ...  ...       ...       ...       ...   \n",
       "7190 -0.100753  0.037087  0.081075  ...  0.069430  0.071001  0.021591   \n",
       "7191 -0.116460  0.063727  0.089034  ...  0.061127  0.068978  0.017745   \n",
       "7192 -0.103317  0.070370  0.081317  ...  0.082474  0.077771 -0.009688   \n",
       "7193 -0.115799  0.056979  0.089316  ...  0.051796  0.069073  0.017963   \n",
       "7194 -0.117672  0.058874  0.076180  ...  0.061455  0.072983 -0.003980   \n",
       "\n",
       "      MFCCs_20  MFCCs_21  MFCCs_22           Family      Genus  \\\n",
       "0     0.057684  0.118680  0.014038  Leptodactylidae  Adenomera   \n",
       "1     0.020140  0.082263  0.029056  Leptodactylidae  Adenomera   \n",
       "2    -0.025083  0.099108  0.077162  Leptodactylidae  Adenomera   \n",
       "3    -0.054766 -0.018691  0.023954  Leptodactylidae  Adenomera   \n",
       "4    -0.031346  0.108610  0.079244  Leptodactylidae  Adenomera   \n",
       "...        ...       ...       ...              ...        ...   \n",
       "7190  0.052449 -0.021860 -0.079860          Hylidae     Scinax   \n",
       "7191  0.046461 -0.015418 -0.101892          Hylidae     Scinax   \n",
       "7192  0.027834 -0.000531 -0.080425          Hylidae     Scinax   \n",
       "7193  0.041803 -0.027911 -0.096895          Hylidae     Scinax   \n",
       "7194  0.031560 -0.029355 -0.087910          Hylidae     Scinax   \n",
       "\n",
       "             Species  RecordID  \n",
       "0     AdenomeraAndre         1  \n",
       "1     AdenomeraAndre         1  \n",
       "2     AdenomeraAndre         1  \n",
       "3     AdenomeraAndre         1  \n",
       "4     AdenomeraAndre         1  \n",
       "...              ...       ...  \n",
       "7190     ScinaxRuber        60  \n",
       "7191     ScinaxRuber        60  \n",
       "7192     ScinaxRuber        60  \n",
       "7193     ScinaxRuber        60  \n",
       "7194     ScinaxRuber        60  \n",
       "\n",
       "[7195 rows x 26 columns]"
      ]
     },
     "execution_count": 2,
     "metadata": {},
     "output_type": "execute_result"
    }
   ],
   "source": [
    "DF = pd.read_csv(f\"../data/Frogs_MFCCs.csv\")\n",
    "DF"
   ]
  },
  {
   "cell_type": "code",
   "execution_count": 3,
   "metadata": {},
   "outputs": [],
   "source": [
    "trainDF, testDF = train_test_split(DF, test_size=0.3, random_state=42)"
   ]
  },
  {
   "cell_type": "code",
   "execution_count": 4,
   "metadata": {},
   "outputs": [
    {
     "data": {
      "text/html": [
       "<div>\n",
       "<style scoped>\n",
       "    .dataframe tbody tr th:only-of-type {\n",
       "        vertical-align: middle;\n",
       "    }\n",
       "\n",
       "    .dataframe tbody tr th {\n",
       "        vertical-align: top;\n",
       "    }\n",
       "\n",
       "    .dataframe thead th {\n",
       "        text-align: right;\n",
       "    }\n",
       "</style>\n",
       "<table border=\"1\" class=\"dataframe\">\n",
       "  <thead>\n",
       "    <tr style=\"text-align: right;\">\n",
       "      <th></th>\n",
       "      <th>MFCCs_ 1</th>\n",
       "      <th>MFCCs_ 2</th>\n",
       "      <th>MFCCs_ 3</th>\n",
       "      <th>MFCCs_ 4</th>\n",
       "      <th>MFCCs_ 5</th>\n",
       "      <th>MFCCs_ 6</th>\n",
       "      <th>MFCCs_ 7</th>\n",
       "      <th>MFCCs_ 8</th>\n",
       "      <th>MFCCs_ 9</th>\n",
       "      <th>MFCCs_10</th>\n",
       "      <th>...</th>\n",
       "      <th>MFCCs_17</th>\n",
       "      <th>MFCCs_18</th>\n",
       "      <th>MFCCs_19</th>\n",
       "      <th>MFCCs_20</th>\n",
       "      <th>MFCCs_21</th>\n",
       "      <th>MFCCs_22</th>\n",
       "      <th>Family</th>\n",
       "      <th>Genus</th>\n",
       "      <th>Species</th>\n",
       "      <th>RecordID</th>\n",
       "    </tr>\n",
       "  </thead>\n",
       "  <tbody>\n",
       "    <tr>\n",
       "      <th>2004</th>\n",
       "      <td>1.000000</td>\n",
       "      <td>0.327476</td>\n",
       "      <td>0.282440</td>\n",
       "      <td>0.572211</td>\n",
       "      <td>0.096509</td>\n",
       "      <td>-0.036705</td>\n",
       "      <td>-0.082174</td>\n",
       "      <td>0.146604</td>\n",
       "      <td>0.297338</td>\n",
       "      <td>-0.120902</td>\n",
       "      <td>...</td>\n",
       "      <td>0.218024</td>\n",
       "      <td>-0.042083</td>\n",
       "      <td>-0.126511</td>\n",
       "      <td>-0.090279</td>\n",
       "      <td>0.096176</td>\n",
       "      <td>0.191697</td>\n",
       "      <td>Leptodactylidae</td>\n",
       "      <td>Adenomera</td>\n",
       "      <td>AdenomeraHylaedactylus</td>\n",
       "      <td>17</td>\n",
       "    </tr>\n",
       "    <tr>\n",
       "      <th>1194</th>\n",
       "      <td>1.000000</td>\n",
       "      <td>0.232818</td>\n",
       "      <td>-0.144331</td>\n",
       "      <td>-0.078909</td>\n",
       "      <td>-0.072467</td>\n",
       "      <td>0.255380</td>\n",
       "      <td>0.450215</td>\n",
       "      <td>0.261033</td>\n",
       "      <td>-0.168462</td>\n",
       "      <td>-0.281445</td>\n",
       "      <td>...</td>\n",
       "      <td>-0.291979</td>\n",
       "      <td>-0.042932</td>\n",
       "      <td>-0.009021</td>\n",
       "      <td>-0.032679</td>\n",
       "      <td>0.023912</td>\n",
       "      <td>0.041407</td>\n",
       "      <td>Dendrobatidae</td>\n",
       "      <td>Ameerega</td>\n",
       "      <td>Ameeregatrivittata</td>\n",
       "      <td>13</td>\n",
       "    </tr>\n",
       "    <tr>\n",
       "      <th>5359</th>\n",
       "      <td>0.966443</td>\n",
       "      <td>0.455914</td>\n",
       "      <td>1.000000</td>\n",
       "      <td>0.541650</td>\n",
       "      <td>-0.412873</td>\n",
       "      <td>0.307099</td>\n",
       "      <td>0.235819</td>\n",
       "      <td>-0.064025</td>\n",
       "      <td>0.069728</td>\n",
       "      <td>-0.052552</td>\n",
       "      <td>...</td>\n",
       "      <td>-0.049428</td>\n",
       "      <td>-0.053166</td>\n",
       "      <td>-0.026728</td>\n",
       "      <td>0.029443</td>\n",
       "      <td>0.019032</td>\n",
       "      <td>-0.105221</td>\n",
       "      <td>Hylidae</td>\n",
       "      <td>Hypsiboas</td>\n",
       "      <td>HypsiboasCinerascens</td>\n",
       "      <td>37</td>\n",
       "    </tr>\n",
       "    <tr>\n",
       "      <th>1756</th>\n",
       "      <td>1.000000</td>\n",
       "      <td>0.257873</td>\n",
       "      <td>0.112807</td>\n",
       "      <td>0.527614</td>\n",
       "      <td>0.186094</td>\n",
       "      <td>0.043683</td>\n",
       "      <td>-0.163682</td>\n",
       "      <td>-0.014125</td>\n",
       "      <td>0.196527</td>\n",
       "      <td>0.018839</td>\n",
       "      <td>...</td>\n",
       "      <td>0.226971</td>\n",
       "      <td>0.034969</td>\n",
       "      <td>-0.106029</td>\n",
       "      <td>-0.147124</td>\n",
       "      <td>0.042627</td>\n",
       "      <td>0.250249</td>\n",
       "      <td>Leptodactylidae</td>\n",
       "      <td>Adenomera</td>\n",
       "      <td>AdenomeraHylaedactylus</td>\n",
       "      <td>15</td>\n",
       "    </tr>\n",
       "    <tr>\n",
       "      <th>497</th>\n",
       "      <td>1.000000</td>\n",
       "      <td>0.401859</td>\n",
       "      <td>0.563219</td>\n",
       "      <td>0.578304</td>\n",
       "      <td>-0.126517</td>\n",
       "      <td>-0.058725</td>\n",
       "      <td>0.431806</td>\n",
       "      <td>0.066801</td>\n",
       "      <td>-0.321014</td>\n",
       "      <td>0.155569</td>\n",
       "      <td>...</td>\n",
       "      <td>-0.002891</td>\n",
       "      <td>0.157072</td>\n",
       "      <td>-0.015251</td>\n",
       "      <td>-0.055428</td>\n",
       "      <td>0.086927</td>\n",
       "      <td>0.086006</td>\n",
       "      <td>Leptodactylidae</td>\n",
       "      <td>Adenomera</td>\n",
       "      <td>AdenomeraAndre</td>\n",
       "      <td>8</td>\n",
       "    </tr>\n",
       "    <tr>\n",
       "      <th>...</th>\n",
       "      <td>...</td>\n",
       "      <td>...</td>\n",
       "      <td>...</td>\n",
       "      <td>...</td>\n",
       "      <td>...</td>\n",
       "      <td>...</td>\n",
       "      <td>...</td>\n",
       "      <td>...</td>\n",
       "      <td>...</td>\n",
       "      <td>...</td>\n",
       "      <td>...</td>\n",
       "      <td>...</td>\n",
       "      <td>...</td>\n",
       "      <td>...</td>\n",
       "      <td>...</td>\n",
       "      <td>...</td>\n",
       "      <td>...</td>\n",
       "      <td>...</td>\n",
       "      <td>...</td>\n",
       "      <td>...</td>\n",
       "      <td>...</td>\n",
       "    </tr>\n",
       "    <tr>\n",
       "      <th>3772</th>\n",
       "      <td>1.000000</td>\n",
       "      <td>0.406366</td>\n",
       "      <td>0.268684</td>\n",
       "      <td>0.704863</td>\n",
       "      <td>0.358415</td>\n",
       "      <td>0.055376</td>\n",
       "      <td>-0.159812</td>\n",
       "      <td>0.065813</td>\n",
       "      <td>0.345068</td>\n",
       "      <td>0.175460</td>\n",
       "      <td>...</td>\n",
       "      <td>0.220504</td>\n",
       "      <td>0.054246</td>\n",
       "      <td>-0.069108</td>\n",
       "      <td>-0.174583</td>\n",
       "      <td>-0.032202</td>\n",
       "      <td>0.188263</td>\n",
       "      <td>Leptodactylidae</td>\n",
       "      <td>Adenomera</td>\n",
       "      <td>AdenomeraHylaedactylus</td>\n",
       "      <td>22</td>\n",
       "    </tr>\n",
       "    <tr>\n",
       "      <th>5191</th>\n",
       "      <td>1.000000</td>\n",
       "      <td>0.634337</td>\n",
       "      <td>0.594395</td>\n",
       "      <td>0.403271</td>\n",
       "      <td>0.004960</td>\n",
       "      <td>0.037880</td>\n",
       "      <td>-0.065399</td>\n",
       "      <td>0.125276</td>\n",
       "      <td>0.106976</td>\n",
       "      <td>-0.223357</td>\n",
       "      <td>...</td>\n",
       "      <td>-0.140923</td>\n",
       "      <td>0.003646</td>\n",
       "      <td>0.007163</td>\n",
       "      <td>0.068718</td>\n",
       "      <td>0.047640</td>\n",
       "      <td>-0.179215</td>\n",
       "      <td>Hylidae</td>\n",
       "      <td>Hypsiboas</td>\n",
       "      <td>HypsiboasCinerascens</td>\n",
       "      <td>36</td>\n",
       "    </tr>\n",
       "    <tr>\n",
       "      <th>5226</th>\n",
       "      <td>1.000000</td>\n",
       "      <td>0.756413</td>\n",
       "      <td>0.732319</td>\n",
       "      <td>0.385807</td>\n",
       "      <td>-0.034821</td>\n",
       "      <td>0.073881</td>\n",
       "      <td>-0.058027</td>\n",
       "      <td>0.183775</td>\n",
       "      <td>0.219419</td>\n",
       "      <td>-0.445112</td>\n",
       "      <td>...</td>\n",
       "      <td>-0.182019</td>\n",
       "      <td>0.006296</td>\n",
       "      <td>-0.005868</td>\n",
       "      <td>0.029439</td>\n",
       "      <td>0.004783</td>\n",
       "      <td>-0.198014</td>\n",
       "      <td>Hylidae</td>\n",
       "      <td>Hypsiboas</td>\n",
       "      <td>HypsiboasCinerascens</td>\n",
       "      <td>36</td>\n",
       "    </tr>\n",
       "    <tr>\n",
       "      <th>5390</th>\n",
       "      <td>0.931410</td>\n",
       "      <td>0.626137</td>\n",
       "      <td>1.000000</td>\n",
       "      <td>0.375834</td>\n",
       "      <td>-0.223044</td>\n",
       "      <td>0.325943</td>\n",
       "      <td>0.121659</td>\n",
       "      <td>-0.092542</td>\n",
       "      <td>0.163365</td>\n",
       "      <td>-0.049382</td>\n",
       "      <td>...</td>\n",
       "      <td>-0.054750</td>\n",
       "      <td>-0.054434</td>\n",
       "      <td>0.108092</td>\n",
       "      <td>0.156994</td>\n",
       "      <td>-0.051681</td>\n",
       "      <td>-0.085656</td>\n",
       "      <td>Hylidae</td>\n",
       "      <td>Hypsiboas</td>\n",
       "      <td>HypsiboasCinerascens</td>\n",
       "      <td>37</td>\n",
       "    </tr>\n",
       "    <tr>\n",
       "      <th>860</th>\n",
       "      <td>1.000000</td>\n",
       "      <td>0.332793</td>\n",
       "      <td>-0.056006</td>\n",
       "      <td>0.358653</td>\n",
       "      <td>0.508890</td>\n",
       "      <td>0.185081</td>\n",
       "      <td>-0.205522</td>\n",
       "      <td>-0.138280</td>\n",
       "      <td>0.204867</td>\n",
       "      <td>0.243058</td>\n",
       "      <td>...</td>\n",
       "      <td>-0.183615</td>\n",
       "      <td>0.003870</td>\n",
       "      <td>0.150144</td>\n",
       "      <td>0.040411</td>\n",
       "      <td>-0.103768</td>\n",
       "      <td>-0.066435</td>\n",
       "      <td>Dendrobatidae</td>\n",
       "      <td>Ameerega</td>\n",
       "      <td>Ameeregatrivittata</td>\n",
       "      <td>11</td>\n",
       "    </tr>\n",
       "  </tbody>\n",
       "</table>\n",
       "<p>5036 rows × 26 columns</p>\n",
       "</div>"
      ],
      "text/plain": [
       "      MFCCs_ 1  MFCCs_ 2  MFCCs_ 3  MFCCs_ 4  MFCCs_ 5  MFCCs_ 6  MFCCs_ 7  \\\n",
       "2004  1.000000  0.327476  0.282440  0.572211  0.096509 -0.036705 -0.082174   \n",
       "1194  1.000000  0.232818 -0.144331 -0.078909 -0.072467  0.255380  0.450215   \n",
       "5359  0.966443  0.455914  1.000000  0.541650 -0.412873  0.307099  0.235819   \n",
       "1756  1.000000  0.257873  0.112807  0.527614  0.186094  0.043683 -0.163682   \n",
       "497   1.000000  0.401859  0.563219  0.578304 -0.126517 -0.058725  0.431806   \n",
       "...        ...       ...       ...       ...       ...       ...       ...   \n",
       "3772  1.000000  0.406366  0.268684  0.704863  0.358415  0.055376 -0.159812   \n",
       "5191  1.000000  0.634337  0.594395  0.403271  0.004960  0.037880 -0.065399   \n",
       "5226  1.000000  0.756413  0.732319  0.385807 -0.034821  0.073881 -0.058027   \n",
       "5390  0.931410  0.626137  1.000000  0.375834 -0.223044  0.325943  0.121659   \n",
       "860   1.000000  0.332793 -0.056006  0.358653  0.508890  0.185081 -0.205522   \n",
       "\n",
       "      MFCCs_ 8  MFCCs_ 9  MFCCs_10  ...  MFCCs_17  MFCCs_18  MFCCs_19  \\\n",
       "2004  0.146604  0.297338 -0.120902  ...  0.218024 -0.042083 -0.126511   \n",
       "1194  0.261033 -0.168462 -0.281445  ... -0.291979 -0.042932 -0.009021   \n",
       "5359 -0.064025  0.069728 -0.052552  ... -0.049428 -0.053166 -0.026728   \n",
       "1756 -0.014125  0.196527  0.018839  ...  0.226971  0.034969 -0.106029   \n",
       "497   0.066801 -0.321014  0.155569  ... -0.002891  0.157072 -0.015251   \n",
       "...        ...       ...       ...  ...       ...       ...       ...   \n",
       "3772  0.065813  0.345068  0.175460  ...  0.220504  0.054246 -0.069108   \n",
       "5191  0.125276  0.106976 -0.223357  ... -0.140923  0.003646  0.007163   \n",
       "5226  0.183775  0.219419 -0.445112  ... -0.182019  0.006296 -0.005868   \n",
       "5390 -0.092542  0.163365 -0.049382  ... -0.054750 -0.054434  0.108092   \n",
       "860  -0.138280  0.204867  0.243058  ... -0.183615  0.003870  0.150144   \n",
       "\n",
       "      MFCCs_20  MFCCs_21  MFCCs_22           Family      Genus  \\\n",
       "2004 -0.090279  0.096176  0.191697  Leptodactylidae  Adenomera   \n",
       "1194 -0.032679  0.023912  0.041407    Dendrobatidae   Ameerega   \n",
       "5359  0.029443  0.019032 -0.105221          Hylidae  Hypsiboas   \n",
       "1756 -0.147124  0.042627  0.250249  Leptodactylidae  Adenomera   \n",
       "497  -0.055428  0.086927  0.086006  Leptodactylidae  Adenomera   \n",
       "...        ...       ...       ...              ...        ...   \n",
       "3772 -0.174583 -0.032202  0.188263  Leptodactylidae  Adenomera   \n",
       "5191  0.068718  0.047640 -0.179215          Hylidae  Hypsiboas   \n",
       "5226  0.029439  0.004783 -0.198014          Hylidae  Hypsiboas   \n",
       "5390  0.156994 -0.051681 -0.085656          Hylidae  Hypsiboas   \n",
       "860   0.040411 -0.103768 -0.066435    Dendrobatidae   Ameerega   \n",
       "\n",
       "                     Species  RecordID  \n",
       "2004  AdenomeraHylaedactylus        17  \n",
       "1194      Ameeregatrivittata        13  \n",
       "5359    HypsiboasCinerascens        37  \n",
       "1756  AdenomeraHylaedactylus        15  \n",
       "497           AdenomeraAndre         8  \n",
       "...                      ...       ...  \n",
       "3772  AdenomeraHylaedactylus        22  \n",
       "5191    HypsiboasCinerascens        36  \n",
       "5226    HypsiboasCinerascens        36  \n",
       "5390    HypsiboasCinerascens        37  \n",
       "860       Ameeregatrivittata        11  \n",
       "\n",
       "[5036 rows x 26 columns]"
      ]
     },
     "execution_count": 4,
     "metadata": {},
     "output_type": "execute_result"
    }
   ],
   "source": [
    "trainDF"
   ]
  },
  {
   "cell_type": "code",
   "execution_count": 5,
   "metadata": {},
   "outputs": [
    {
     "data": {
      "text/html": [
       "<div>\n",
       "<style scoped>\n",
       "    .dataframe tbody tr th:only-of-type {\n",
       "        vertical-align: middle;\n",
       "    }\n",
       "\n",
       "    .dataframe tbody tr th {\n",
       "        vertical-align: top;\n",
       "    }\n",
       "\n",
       "    .dataframe thead th {\n",
       "        text-align: right;\n",
       "    }\n",
       "</style>\n",
       "<table border=\"1\" class=\"dataframe\">\n",
       "  <thead>\n",
       "    <tr style=\"text-align: right;\">\n",
       "      <th></th>\n",
       "      <th>MFCCs_ 1</th>\n",
       "      <th>MFCCs_ 2</th>\n",
       "      <th>MFCCs_ 3</th>\n",
       "      <th>MFCCs_ 4</th>\n",
       "      <th>MFCCs_ 5</th>\n",
       "      <th>MFCCs_ 6</th>\n",
       "      <th>MFCCs_ 7</th>\n",
       "      <th>MFCCs_ 8</th>\n",
       "      <th>MFCCs_ 9</th>\n",
       "      <th>MFCCs_10</th>\n",
       "      <th>...</th>\n",
       "      <th>MFCCs_17</th>\n",
       "      <th>MFCCs_18</th>\n",
       "      <th>MFCCs_19</th>\n",
       "      <th>MFCCs_20</th>\n",
       "      <th>MFCCs_21</th>\n",
       "      <th>MFCCs_22</th>\n",
       "      <th>Family</th>\n",
       "      <th>Genus</th>\n",
       "      <th>Species</th>\n",
       "      <th>RecordID</th>\n",
       "    </tr>\n",
       "  </thead>\n",
       "  <tbody>\n",
       "    <tr>\n",
       "      <th>3340</th>\n",
       "      <td>1.0</td>\n",
       "      <td>0.147506</td>\n",
       "      <td>0.014843</td>\n",
       "      <td>0.433466</td>\n",
       "      <td>0.169581</td>\n",
       "      <td>0.053135</td>\n",
       "      <td>-0.152020</td>\n",
       "      <td>-0.102427</td>\n",
       "      <td>0.153061</td>\n",
       "      <td>0.128628</td>\n",
       "      <td>...</td>\n",
       "      <td>0.285756</td>\n",
       "      <td>0.166246</td>\n",
       "      <td>-0.061206</td>\n",
       "      <td>-0.191878</td>\n",
       "      <td>0.003221</td>\n",
       "      <td>0.255371</td>\n",
       "      <td>Leptodactylidae</td>\n",
       "      <td>Adenomera</td>\n",
       "      <td>AdenomeraHylaedactylus</td>\n",
       "      <td>21</td>\n",
       "    </tr>\n",
       "    <tr>\n",
       "      <th>5108</th>\n",
       "      <td>1.0</td>\n",
       "      <td>0.674174</td>\n",
       "      <td>0.767520</td>\n",
       "      <td>0.392177</td>\n",
       "      <td>0.035669</td>\n",
       "      <td>0.181548</td>\n",
       "      <td>-0.013677</td>\n",
       "      <td>0.187262</td>\n",
       "      <td>0.144679</td>\n",
       "      <td>-0.424524</td>\n",
       "      <td>...</td>\n",
       "      <td>-0.157943</td>\n",
       "      <td>-0.048913</td>\n",
       "      <td>-0.016129</td>\n",
       "      <td>0.129200</td>\n",
       "      <td>0.011245</td>\n",
       "      <td>-0.275909</td>\n",
       "      <td>Hylidae</td>\n",
       "      <td>Hypsiboas</td>\n",
       "      <td>HypsiboasCinerascens</td>\n",
       "      <td>36</td>\n",
       "    </tr>\n",
       "    <tr>\n",
       "      <th>6524</th>\n",
       "      <td>1.0</td>\n",
       "      <td>-0.007777</td>\n",
       "      <td>0.363276</td>\n",
       "      <td>0.413224</td>\n",
       "      <td>0.196296</td>\n",
       "      <td>0.222389</td>\n",
       "      <td>0.097128</td>\n",
       "      <td>-0.155608</td>\n",
       "      <td>-0.035013</td>\n",
       "      <td>0.133689</td>\n",
       "      <td>...</td>\n",
       "      <td>0.125169</td>\n",
       "      <td>0.044882</td>\n",
       "      <td>-0.013309</td>\n",
       "      <td>-0.026086</td>\n",
       "      <td>-0.088825</td>\n",
       "      <td>-0.018968</td>\n",
       "      <td>Hylidae</td>\n",
       "      <td>Hypsiboas</td>\n",
       "      <td>HypsiboasCordobae</td>\n",
       "      <td>43</td>\n",
       "    </tr>\n",
       "    <tr>\n",
       "      <th>3649</th>\n",
       "      <td>1.0</td>\n",
       "      <td>0.429359</td>\n",
       "      <td>0.297881</td>\n",
       "      <td>0.609120</td>\n",
       "      <td>0.263991</td>\n",
       "      <td>-0.030414</td>\n",
       "      <td>-0.160778</td>\n",
       "      <td>0.076217</td>\n",
       "      <td>0.285909</td>\n",
       "      <td>0.052029</td>\n",
       "      <td>...</td>\n",
       "      <td>0.230330</td>\n",
       "      <td>0.069015</td>\n",
       "      <td>-0.101196</td>\n",
       "      <td>-0.152351</td>\n",
       "      <td>0.039065</td>\n",
       "      <td>0.233823</td>\n",
       "      <td>Leptodactylidae</td>\n",
       "      <td>Adenomera</td>\n",
       "      <td>AdenomeraHylaedactylus</td>\n",
       "      <td>22</td>\n",
       "    </tr>\n",
       "    <tr>\n",
       "      <th>1617</th>\n",
       "      <td>1.0</td>\n",
       "      <td>0.190599</td>\n",
       "      <td>0.062234</td>\n",
       "      <td>0.617262</td>\n",
       "      <td>0.208825</td>\n",
       "      <td>0.027108</td>\n",
       "      <td>-0.214441</td>\n",
       "      <td>0.009654</td>\n",
       "      <td>0.299053</td>\n",
       "      <td>0.039013</td>\n",
       "      <td>...</td>\n",
       "      <td>0.321598</td>\n",
       "      <td>0.128742</td>\n",
       "      <td>-0.152977</td>\n",
       "      <td>-0.223482</td>\n",
       "      <td>0.016131</td>\n",
       "      <td>0.250754</td>\n",
       "      <td>Leptodactylidae</td>\n",
       "      <td>Adenomera</td>\n",
       "      <td>AdenomeraHylaedactylus</td>\n",
       "      <td>15</td>\n",
       "    </tr>\n",
       "    <tr>\n",
       "      <th>...</th>\n",
       "      <td>...</td>\n",
       "      <td>...</td>\n",
       "      <td>...</td>\n",
       "      <td>...</td>\n",
       "      <td>...</td>\n",
       "      <td>...</td>\n",
       "      <td>...</td>\n",
       "      <td>...</td>\n",
       "      <td>...</td>\n",
       "      <td>...</td>\n",
       "      <td>...</td>\n",
       "      <td>...</td>\n",
       "      <td>...</td>\n",
       "      <td>...</td>\n",
       "      <td>...</td>\n",
       "      <td>...</td>\n",
       "      <td>...</td>\n",
       "      <td>...</td>\n",
       "      <td>...</td>\n",
       "      <td>...</td>\n",
       "      <td>...</td>\n",
       "    </tr>\n",
       "    <tr>\n",
       "      <th>1224</th>\n",
       "      <td>1.0</td>\n",
       "      <td>0.469993</td>\n",
       "      <td>0.342252</td>\n",
       "      <td>0.508362</td>\n",
       "      <td>0.184239</td>\n",
       "      <td>0.138370</td>\n",
       "      <td>-0.070231</td>\n",
       "      <td>0.034221</td>\n",
       "      <td>0.226367</td>\n",
       "      <td>-0.001120</td>\n",
       "      <td>...</td>\n",
       "      <td>0.186595</td>\n",
       "      <td>-0.080672</td>\n",
       "      <td>-0.104266</td>\n",
       "      <td>-0.077342</td>\n",
       "      <td>0.159712</td>\n",
       "      <td>0.239398</td>\n",
       "      <td>Leptodactylidae</td>\n",
       "      <td>Adenomera</td>\n",
       "      <td>AdenomeraHylaedactylus</td>\n",
       "      <td>14</td>\n",
       "    </tr>\n",
       "    <tr>\n",
       "      <th>142</th>\n",
       "      <td>1.0</td>\n",
       "      <td>0.162558</td>\n",
       "      <td>-0.115829</td>\n",
       "      <td>0.045608</td>\n",
       "      <td>0.226107</td>\n",
       "      <td>0.325952</td>\n",
       "      <td>0.157953</td>\n",
       "      <td>-0.124050</td>\n",
       "      <td>-0.009148</td>\n",
       "      <td>0.235613</td>\n",
       "      <td>...</td>\n",
       "      <td>-0.120102</td>\n",
       "      <td>-0.226043</td>\n",
       "      <td>-0.161989</td>\n",
       "      <td>0.037390</td>\n",
       "      <td>0.185305</td>\n",
       "      <td>0.059824</td>\n",
       "      <td>Leptodactylidae</td>\n",
       "      <td>Adenomera</td>\n",
       "      <td>AdenomeraAndre</td>\n",
       "      <td>4</td>\n",
       "    </tr>\n",
       "    <tr>\n",
       "      <th>1490</th>\n",
       "      <td>1.0</td>\n",
       "      <td>0.160219</td>\n",
       "      <td>0.137078</td>\n",
       "      <td>0.599525</td>\n",
       "      <td>0.252240</td>\n",
       "      <td>0.077200</td>\n",
       "      <td>-0.132288</td>\n",
       "      <td>-0.001605</td>\n",
       "      <td>0.244840</td>\n",
       "      <td>0.081377</td>\n",
       "      <td>...</td>\n",
       "      <td>0.275059</td>\n",
       "      <td>0.046851</td>\n",
       "      <td>-0.108847</td>\n",
       "      <td>-0.190397</td>\n",
       "      <td>-0.011276</td>\n",
       "      <td>0.217408</td>\n",
       "      <td>Leptodactylidae</td>\n",
       "      <td>Adenomera</td>\n",
       "      <td>AdenomeraHylaedactylus</td>\n",
       "      <td>15</td>\n",
       "    </tr>\n",
       "    <tr>\n",
       "      <th>2574</th>\n",
       "      <td>1.0</td>\n",
       "      <td>0.523548</td>\n",
       "      <td>0.387887</td>\n",
       "      <td>0.539775</td>\n",
       "      <td>0.087532</td>\n",
       "      <td>0.028962</td>\n",
       "      <td>-0.025403</td>\n",
       "      <td>0.064718</td>\n",
       "      <td>0.215919</td>\n",
       "      <td>-0.005312</td>\n",
       "      <td>...</td>\n",
       "      <td>0.120708</td>\n",
       "      <td>-0.133983</td>\n",
       "      <td>-0.092651</td>\n",
       "      <td>0.011379</td>\n",
       "      <td>0.109798</td>\n",
       "      <td>0.100649</td>\n",
       "      <td>Leptodactylidae</td>\n",
       "      <td>Adenomera</td>\n",
       "      <td>AdenomeraHylaedactylus</td>\n",
       "      <td>19</td>\n",
       "    </tr>\n",
       "    <tr>\n",
       "      <th>2653</th>\n",
       "      <td>1.0</td>\n",
       "      <td>0.368922</td>\n",
       "      <td>0.463250</td>\n",
       "      <td>0.569104</td>\n",
       "      <td>0.137126</td>\n",
       "      <td>0.074284</td>\n",
       "      <td>-0.015858</td>\n",
       "      <td>0.066424</td>\n",
       "      <td>0.277405</td>\n",
       "      <td>0.054899</td>\n",
       "      <td>...</td>\n",
       "      <td>0.200341</td>\n",
       "      <td>-0.040274</td>\n",
       "      <td>-0.113475</td>\n",
       "      <td>-0.055959</td>\n",
       "      <td>0.086084</td>\n",
       "      <td>0.169870</td>\n",
       "      <td>Leptodactylidae</td>\n",
       "      <td>Adenomera</td>\n",
       "      <td>AdenomeraHylaedactylus</td>\n",
       "      <td>19</td>\n",
       "    </tr>\n",
       "  </tbody>\n",
       "</table>\n",
       "<p>2159 rows × 26 columns</p>\n",
       "</div>"
      ],
      "text/plain": [
       "      MFCCs_ 1  MFCCs_ 2  MFCCs_ 3  MFCCs_ 4  MFCCs_ 5  MFCCs_ 6  MFCCs_ 7  \\\n",
       "3340       1.0  0.147506  0.014843  0.433466  0.169581  0.053135 -0.152020   \n",
       "5108       1.0  0.674174  0.767520  0.392177  0.035669  0.181548 -0.013677   \n",
       "6524       1.0 -0.007777  0.363276  0.413224  0.196296  0.222389  0.097128   \n",
       "3649       1.0  0.429359  0.297881  0.609120  0.263991 -0.030414 -0.160778   \n",
       "1617       1.0  0.190599  0.062234  0.617262  0.208825  0.027108 -0.214441   \n",
       "...        ...       ...       ...       ...       ...       ...       ...   \n",
       "1224       1.0  0.469993  0.342252  0.508362  0.184239  0.138370 -0.070231   \n",
       "142        1.0  0.162558 -0.115829  0.045608  0.226107  0.325952  0.157953   \n",
       "1490       1.0  0.160219  0.137078  0.599525  0.252240  0.077200 -0.132288   \n",
       "2574       1.0  0.523548  0.387887  0.539775  0.087532  0.028962 -0.025403   \n",
       "2653       1.0  0.368922  0.463250  0.569104  0.137126  0.074284 -0.015858   \n",
       "\n",
       "      MFCCs_ 8  MFCCs_ 9  MFCCs_10  ...  MFCCs_17  MFCCs_18  MFCCs_19  \\\n",
       "3340 -0.102427  0.153061  0.128628  ...  0.285756  0.166246 -0.061206   \n",
       "5108  0.187262  0.144679 -0.424524  ... -0.157943 -0.048913 -0.016129   \n",
       "6524 -0.155608 -0.035013  0.133689  ...  0.125169  0.044882 -0.013309   \n",
       "3649  0.076217  0.285909  0.052029  ...  0.230330  0.069015 -0.101196   \n",
       "1617  0.009654  0.299053  0.039013  ...  0.321598  0.128742 -0.152977   \n",
       "...        ...       ...       ...  ...       ...       ...       ...   \n",
       "1224  0.034221  0.226367 -0.001120  ...  0.186595 -0.080672 -0.104266   \n",
       "142  -0.124050 -0.009148  0.235613  ... -0.120102 -0.226043 -0.161989   \n",
       "1490 -0.001605  0.244840  0.081377  ...  0.275059  0.046851 -0.108847   \n",
       "2574  0.064718  0.215919 -0.005312  ...  0.120708 -0.133983 -0.092651   \n",
       "2653  0.066424  0.277405  0.054899  ...  0.200341 -0.040274 -0.113475   \n",
       "\n",
       "      MFCCs_20  MFCCs_21  MFCCs_22           Family      Genus  \\\n",
       "3340 -0.191878  0.003221  0.255371  Leptodactylidae  Adenomera   \n",
       "5108  0.129200  0.011245 -0.275909          Hylidae  Hypsiboas   \n",
       "6524 -0.026086 -0.088825 -0.018968          Hylidae  Hypsiboas   \n",
       "3649 -0.152351  0.039065  0.233823  Leptodactylidae  Adenomera   \n",
       "1617 -0.223482  0.016131  0.250754  Leptodactylidae  Adenomera   \n",
       "...        ...       ...       ...              ...        ...   \n",
       "1224 -0.077342  0.159712  0.239398  Leptodactylidae  Adenomera   \n",
       "142   0.037390  0.185305  0.059824  Leptodactylidae  Adenomera   \n",
       "1490 -0.190397 -0.011276  0.217408  Leptodactylidae  Adenomera   \n",
       "2574  0.011379  0.109798  0.100649  Leptodactylidae  Adenomera   \n",
       "2653 -0.055959  0.086084  0.169870  Leptodactylidae  Adenomera   \n",
       "\n",
       "                     Species  RecordID  \n",
       "3340  AdenomeraHylaedactylus        21  \n",
       "5108    HypsiboasCinerascens        36  \n",
       "6524       HypsiboasCordobae        43  \n",
       "3649  AdenomeraHylaedactylus        22  \n",
       "1617  AdenomeraHylaedactylus        15  \n",
       "...                      ...       ...  \n",
       "1224  AdenomeraHylaedactylus        14  \n",
       "142           AdenomeraAndre         4  \n",
       "1490  AdenomeraHylaedactylus        15  \n",
       "2574  AdenomeraHylaedactylus        19  \n",
       "2653  AdenomeraHylaedactylus        19  \n",
       "\n",
       "[2159 rows x 26 columns]"
      ]
     },
     "execution_count": 5,
     "metadata": {},
     "output_type": "execute_result"
    }
   ],
   "source": [
    "testDF"
   ]
  },
  {
   "cell_type": "code",
   "execution_count": 6,
   "metadata": {},
   "outputs": [],
   "source": [
    "trainX = trainDF.iloc[:, :-4]\n",
    "trainFamily = trainDF['Family']\n",
    "trainGenus = trainDF['Genus']\n",
    "trainSpecies = trainDF['Species']"
   ]
  },
  {
   "cell_type": "code",
   "execution_count": 7,
   "metadata": {},
   "outputs": [],
   "source": [
    "testX = testDF.iloc[:, :-4]\n",
    "testFamily = testDF['Family']\n",
    "testGenus = testDF['Genus']\n",
    "testSpecies = testDF['Species']"
   ]
  },
  {
   "cell_type": "markdown",
   "metadata": {},
   "source": [
    "### (b) Train a classifier for each label"
   ]
  },
  {
   "cell_type": "markdown",
   "metadata": {},
   "source": [
    "#### (i) Research"
   ]
  },
  {
   "cell_type": "markdown",
   "metadata": {},
   "source": [
    "Exact match: This means every label of a sample must be exactly the same as its in data set. This is also known as a sample-based accuracy.\n",
    "\n",
    "Hamming Loss:: This is a label-based metric that counts each single miss-matched label rather than consider the lables of a sample as one."
   ]
  },
  {
   "cell_type": "markdown",
   "metadata": {},
   "source": [
    "#### (ii) Train a SVM for each of the labels"
   ]
  },
  {
   "cell_type": "code",
   "execution_count": 8,
   "metadata": {},
   "outputs": [],
   "source": [
    "scaler = StandardScaler()\n",
    "trainX_std = scaler.fit_transform(trainX)\n",
    "testX_std = scaler.transform(testX)\n",
    "\n",
    "svm_family = SVC(kernel='rbf', decision_function_shape='ovr')  \n",
    "svm_genus = SVC(kernel='rbf', decision_function_shape='ovr') \n",
    "svm_species = SVC(kernel='rbf', decision_function_shape='ovr') \n",
    "\n",
    "param_grid = {'C': [0.01, 0.1, 1, 10, 100, 1000], 'gamma': [0.001, 0.01, 0.1, 1, 10]}\n",
    "cv = 10\n",
    "\n",
    "svm_family_cv = GridSearchCV(svm_family, param_grid, cv=cv, n_jobs=-1)\n",
    "svm_genus_cv = GridSearchCV(svm_genus, param_grid, cv=cv, n_jobs=-1)\n",
    "svm_species_cv = GridSearchCV(svm_species, param_grid, cv=cv, n_jobs=-1)"
   ]
  },
  {
   "cell_type": "code",
   "execution_count": 9,
   "metadata": {},
   "outputs": [
    {
     "name": "stdout",
     "output_type": "stream",
     "text": [
      "Best hyperparameters for Family: C = 10, gamma = 0.1 on Standardized Data\n",
      "Best hyperparameters for Genus: C = 10, gamma = 0.1 on Standardized Data\n",
      "Best hyperparameters for Species: C = 1000, gamma = 0.01 on Standardized Data\n",
      "Exact Match Ratio: 0.9819\n",
      "Hamming Score: 2.9699\n"
     ]
    }
   ],
   "source": [
    "svm_family_cv.fit(trainX_std, trainFamily)\n",
    "svm_genus_cv.fit(trainX_std, trainGenus)\n",
    "svm_species_cv.fit(trainX_std, trainSpecies)\n",
    "\n",
    "best_C_family = svm_family_cv.best_params_['C']\n",
    "best_gamma_family = svm_family_cv.best_params_['gamma']\n",
    "\n",
    "best_C_genus = svm_genus_cv.best_params_['C']\n",
    "best_gamma_genus = svm_genus_cv.best_params_['gamma']\n",
    "\n",
    "best_C_species = svm_species_cv.best_params_['C']\n",
    "best_gamma_species = svm_species_cv.best_params_['gamma']\n",
    "\n",
    "svm_family = SVC(C=best_C_family, gamma=best_gamma_family, kernel='rbf', decision_function_shape='ovr')\n",
    "svm_genus = SVC(C=best_C_genus, gamma=best_gamma_genus, kernel='rbf', decision_function_shape='ovr')\n",
    "svm_species = SVC(C=best_C_species, gamma=best_gamma_species, kernel='rbf', decision_function_shape='ovr')\n",
    "\n",
    "svm_family.fit(trainX_std, trainFamily)\n",
    "svm_genus.fit(trainX_std, trainGenus)\n",
    "svm_species.fit(trainX_std, trainSpecies)\n",
    "\n",
    "pred_family = svm_family.predict(testX_std)\n",
    "pred_genus = svm_genus.predict(testX_std)\n",
    "pred_species = svm_species.predict(testX_std)\n",
    "\n",
    "exact_match_ratio = np.all([testFamily == pred_family, testGenus == pred_genus, testSpecies == pred_species], axis=0).mean()\n",
    "\n",
    "hamming_score = 1 - hamming_loss(testFamily, pred_family) + 1 - hamming_loss(testGenus, pred_genus) + 1 - hamming_loss(testSpecies, pred_species)\n",
    "\n",
    "print(f\"Best hyperparameters for Family: C = {best_C_family}, gamma = {best_gamma_family} on Standardized Data\")\n",
    "print(f\"Best hyperparameters for Genus: C = {best_C_genus}, gamma = {best_gamma_genus} on Standardized Data\")\n",
    "print(f\"Best hyperparameters for Species: C = {best_C_species}, gamma = {best_gamma_species} on Standardized Data\")\n",
    "print(f\"Exact Match Ratio: {exact_match_ratio:.4f}\")\n",
    "print(f\"Hamming Score: {hamming_score:.4f}\")"
   ]
  },
  {
   "cell_type": "code",
   "execution_count": 10,
   "metadata": {},
   "outputs": [
    {
     "name": "stdout",
     "output_type": "stream",
     "text": [
      "Best hyperparameters for Family: C = 100, gamma = 1 on Non Standardized Data\n",
      "Best hyperparameters for Genus: C = 100, gamma = 1 on Non Standardized Data\n",
      "Best hyperparameters for Species: C = 10, gamma = 1 on Non Standardized Data\n",
      "Exact Match Ratio: 0.9861\n",
      "Hamming Score: 2.9750\n"
     ]
    }
   ],
   "source": [
    "svm_family_cv.fit(trainX, trainFamily)\n",
    "svm_genus_cv.fit(trainX, trainGenus)\n",
    "svm_species_cv.fit(trainX, trainSpecies)\n",
    "\n",
    "best_C_family = svm_family_cv.best_params_['C']\n",
    "best_gamma_family = svm_family_cv.best_params_['gamma']\n",
    "\n",
    "best_C_genus = svm_genus_cv.best_params_['C']\n",
    "best_gamma_genus = svm_genus_cv.best_params_['gamma']\n",
    "\n",
    "best_C_species = svm_species_cv.best_params_['C']\n",
    "best_gamma_species = svm_species_cv.best_params_['gamma']\n",
    "\n",
    "svm_family = SVC(C=best_C_family, gamma=best_gamma_family, kernel='rbf', decision_function_shape='ovr')\n",
    "svm_genus = SVC(C=best_C_genus, gamma=best_gamma_genus, kernel='rbf', decision_function_shape='ovr')\n",
    "svm_species = SVC(C=best_C_species, gamma=best_gamma_species, kernel='rbf', decision_function_shape='ovr')\n",
    "\n",
    "svm_family.fit(trainX, trainFamily)\n",
    "svm_genus.fit(trainX, trainGenus)\n",
    "svm_species.fit(trainX, trainSpecies)\n",
    "\n",
    "pred_family = svm_family.predict(testX)\n",
    "pred_genus = svm_genus.predict(testX)\n",
    "pred_species = svm_species.predict(testX)\n",
    "\n",
    "exact_match_ratio = np.all([testFamily == pred_family, testGenus == pred_genus, testSpecies == pred_species], axis=0).mean()\n",
    "\n",
    "hamming_score = 1 - hamming_loss(testFamily, pred_family) + 1 - hamming_loss(testGenus, pred_genus) + 1 - hamming_loss(testSpecies, pred_species)\n",
    "\n",
    "print(f\"Best hyperparameters for Family: C = {best_C_family}, gamma = {best_gamma_family} on Non Standardized Data\")\n",
    "print(f\"Best hyperparameters for Genus: C = {best_C_genus}, gamma = {best_gamma_genus} on Non Standardized Data\")\n",
    "print(f\"Best hyperparameters for Species: C = {best_C_species}, gamma = {best_gamma_species} on Non Standardized Data\")\n",
    "print(f\"Exact Match Ratio: {exact_match_ratio:.4f}\")\n",
    "print(f\"Hamming Score: {hamming_score:.4f}\")"
   ]
  },
  {
   "cell_type": "markdown",
   "metadata": {},
   "source": [
    "#### (iii) Repeat 1(b)ii with L1-penalized SVMs"
   ]
  },
  {
   "cell_type": "code",
   "execution_count": 11,
   "metadata": {},
   "outputs": [
    {
     "name": "stderr",
     "output_type": "stream",
     "text": [
      "/Users/vedantmodi/anaconda3/envs/dsci552_hw0/lib/python3.11/site-packages/sklearn/svm/_base.py:1242: ConvergenceWarning: Liblinear failed to converge, increase the number of iterations.\n",
      "  warnings.warn(\n",
      "/Users/vedantmodi/anaconda3/envs/dsci552_hw0/lib/python3.11/site-packages/sklearn/svm/_base.py:1242: ConvergenceWarning: Liblinear failed to converge, increase the number of iterations.\n",
      "  warnings.warn(\n",
      "/Users/vedantmodi/anaconda3/envs/dsci552_hw0/lib/python3.11/site-packages/sklearn/svm/_base.py:1242: ConvergenceWarning: Liblinear failed to converge, increase the number of iterations.\n",
      "  warnings.warn(\n",
      "/Users/vedantmodi/anaconda3/envs/dsci552_hw0/lib/python3.11/site-packages/sklearn/svm/_base.py:1242: ConvergenceWarning: Liblinear failed to converge, increase the number of iterations.\n",
      "  warnings.warn(\n",
      "/Users/vedantmodi/anaconda3/envs/dsci552_hw0/lib/python3.11/site-packages/sklearn/svm/_base.py:1242: ConvergenceWarning: Liblinear failed to converge, increase the number of iterations.\n",
      "  warnings.warn(\n",
      "/Users/vedantmodi/anaconda3/envs/dsci552_hw0/lib/python3.11/site-packages/sklearn/svm/_base.py:1242: ConvergenceWarning: Liblinear failed to converge, increase the number of iterations.\n",
      "  warnings.warn(\n",
      "/Users/vedantmodi/anaconda3/envs/dsci552_hw0/lib/python3.11/site-packages/sklearn/svm/_base.py:1242: ConvergenceWarning: Liblinear failed to converge, increase the number of iterations.\n",
      "  warnings.warn(\n",
      "/Users/vedantmodi/anaconda3/envs/dsci552_hw0/lib/python3.11/site-packages/sklearn/svm/_base.py:1242: ConvergenceWarning: Liblinear failed to converge, increase the number of iterations.\n",
      "  warnings.warn(\n",
      "/Users/vedantmodi/anaconda3/envs/dsci552_hw0/lib/python3.11/site-packages/sklearn/svm/_base.py:1242: ConvergenceWarning: Liblinear failed to converge, increase the number of iterations.\n",
      "  warnings.warn(\n",
      "/Users/vedantmodi/anaconda3/envs/dsci552_hw0/lib/python3.11/site-packages/sklearn/svm/_base.py:1242: ConvergenceWarning: Liblinear failed to converge, increase the number of iterations.\n",
      "  warnings.warn(\n",
      "/Users/vedantmodi/anaconda3/envs/dsci552_hw0/lib/python3.11/site-packages/sklearn/svm/_base.py:1242: ConvergenceWarning: Liblinear failed to converge, increase the number of iterations.\n",
      "  warnings.warn(\n",
      "/Users/vedantmodi/anaconda3/envs/dsci552_hw0/lib/python3.11/site-packages/sklearn/svm/_base.py:1242: ConvergenceWarning: Liblinear failed to converge, increase the number of iterations.\n",
      "  warnings.warn(\n",
      "/Users/vedantmodi/anaconda3/envs/dsci552_hw0/lib/python3.11/site-packages/sklearn/svm/_base.py:1242: ConvergenceWarning: Liblinear failed to converge, increase the number of iterations.\n",
      "  warnings.warn(\n",
      "/Users/vedantmodi/anaconda3/envs/dsci552_hw0/lib/python3.11/site-packages/sklearn/svm/_base.py:1242: ConvergenceWarning: Liblinear failed to converge, increase the number of iterations.\n",
      "  warnings.warn(\n",
      "/Users/vedantmodi/anaconda3/envs/dsci552_hw0/lib/python3.11/site-packages/sklearn/svm/_base.py:1242: ConvergenceWarning: Liblinear failed to converge, increase the number of iterations.\n",
      "  warnings.warn(\n",
      "/Users/vedantmodi/anaconda3/envs/dsci552_hw0/lib/python3.11/site-packages/sklearn/svm/_base.py:1242: ConvergenceWarning: Liblinear failed to converge, increase the number of iterations.\n",
      "  warnings.warn(\n",
      "/Users/vedantmodi/anaconda3/envs/dsci552_hw0/lib/python3.11/site-packages/sklearn/svm/_base.py:1242: ConvergenceWarning: Liblinear failed to converge, increase the number of iterations.\n",
      "  warnings.warn(\n",
      "/Users/vedantmodi/anaconda3/envs/dsci552_hw0/lib/python3.11/site-packages/sklearn/svm/_base.py:1242: ConvergenceWarning: Liblinear failed to converge, increase the number of iterations.\n",
      "  warnings.warn(\n",
      "/Users/vedantmodi/anaconda3/envs/dsci552_hw0/lib/python3.11/site-packages/sklearn/svm/_base.py:1242: ConvergenceWarning: Liblinear failed to converge, increase the number of iterations.\n",
      "  warnings.warn(\n",
      "/Users/vedantmodi/anaconda3/envs/dsci552_hw0/lib/python3.11/site-packages/sklearn/svm/_base.py:1242: ConvergenceWarning: Liblinear failed to converge, increase the number of iterations.\n",
      "  warnings.warn(\n",
      "/Users/vedantmodi/anaconda3/envs/dsci552_hw0/lib/python3.11/site-packages/sklearn/svm/_base.py:1242: ConvergenceWarning: Liblinear failed to converge, increase the number of iterations.\n",
      "  warnings.warn(\n",
      "/Users/vedantmodi/anaconda3/envs/dsci552_hw0/lib/python3.11/site-packages/sklearn/svm/_base.py:1242: ConvergenceWarning: Liblinear failed to converge, increase the number of iterations.\n",
      "  warnings.warn(\n",
      "/Users/vedantmodi/anaconda3/envs/dsci552_hw0/lib/python3.11/site-packages/sklearn/svm/_base.py:1242: ConvergenceWarning: Liblinear failed to converge, increase the number of iterations.\n",
      "  warnings.warn(\n",
      "/Users/vedantmodi/anaconda3/envs/dsci552_hw0/lib/python3.11/site-packages/sklearn/svm/_base.py:1242: ConvergenceWarning: Liblinear failed to converge, increase the number of iterations.\n",
      "  warnings.warn(\n",
      "/Users/vedantmodi/anaconda3/envs/dsci552_hw0/lib/python3.11/site-packages/sklearn/svm/_base.py:1242: ConvergenceWarning: Liblinear failed to converge, increase the number of iterations.\n",
      "  warnings.warn(\n",
      "/Users/vedantmodi/anaconda3/envs/dsci552_hw0/lib/python3.11/site-packages/sklearn/svm/_base.py:1242: ConvergenceWarning: Liblinear failed to converge, increase the number of iterations.\n",
      "  warnings.warn(\n",
      "/Users/vedantmodi/anaconda3/envs/dsci552_hw0/lib/python3.11/site-packages/sklearn/svm/_base.py:1242: ConvergenceWarning: Liblinear failed to converge, increase the number of iterations.\n",
      "  warnings.warn(\n",
      "/Users/vedantmodi/anaconda3/envs/dsci552_hw0/lib/python3.11/site-packages/sklearn/svm/_base.py:1242: ConvergenceWarning: Liblinear failed to converge, increase the number of iterations.\n",
      "  warnings.warn(\n",
      "/Users/vedantmodi/anaconda3/envs/dsci552_hw0/lib/python3.11/site-packages/sklearn/svm/_base.py:1242: ConvergenceWarning: Liblinear failed to converge, increase the number of iterations.\n",
      "  warnings.warn(\n",
      "/Users/vedantmodi/anaconda3/envs/dsci552_hw0/lib/python3.11/site-packages/sklearn/svm/_base.py:1242: ConvergenceWarning: Liblinear failed to converge, increase the number of iterations.\n",
      "  warnings.warn(\n",
      "/Users/vedantmodi/anaconda3/envs/dsci552_hw0/lib/python3.11/site-packages/sklearn/svm/_base.py:1242: ConvergenceWarning: Liblinear failed to converge, increase the number of iterations.\n",
      "  warnings.warn(\n",
      "/Users/vedantmodi/anaconda3/envs/dsci552_hw0/lib/python3.11/site-packages/sklearn/svm/_base.py:1242: ConvergenceWarning: Liblinear failed to converge, increase the number of iterations.\n",
      "  warnings.warn(\n",
      "/Users/vedantmodi/anaconda3/envs/dsci552_hw0/lib/python3.11/site-packages/sklearn/svm/_base.py:1242: ConvergenceWarning: Liblinear failed to converge, increase the number of iterations.\n",
      "  warnings.warn(\n",
      "/Users/vedantmodi/anaconda3/envs/dsci552_hw0/lib/python3.11/site-packages/sklearn/svm/_base.py:1242: ConvergenceWarning: Liblinear failed to converge, increase the number of iterations.\n",
      "  warnings.warn(\n",
      "/Users/vedantmodi/anaconda3/envs/dsci552_hw0/lib/python3.11/site-packages/sklearn/svm/_base.py:1242: ConvergenceWarning: Liblinear failed to converge, increase the number of iterations.\n",
      "  warnings.warn(\n",
      "/Users/vedantmodi/anaconda3/envs/dsci552_hw0/lib/python3.11/site-packages/sklearn/svm/_base.py:1242: ConvergenceWarning: Liblinear failed to converge, increase the number of iterations.\n",
      "  warnings.warn(\n",
      "/Users/vedantmodi/anaconda3/envs/dsci552_hw0/lib/python3.11/site-packages/sklearn/svm/_base.py:1242: ConvergenceWarning: Liblinear failed to converge, increase the number of iterations.\n",
      "  warnings.warn(\n",
      "/Users/vedantmodi/anaconda3/envs/dsci552_hw0/lib/python3.11/site-packages/sklearn/svm/_base.py:1242: ConvergenceWarning: Liblinear failed to converge, increase the number of iterations.\n",
      "  warnings.warn(\n",
      "/Users/vedantmodi/anaconda3/envs/dsci552_hw0/lib/python3.11/site-packages/sklearn/svm/_base.py:1242: ConvergenceWarning: Liblinear failed to converge, increase the number of iterations.\n",
      "  warnings.warn(\n",
      "/Users/vedantmodi/anaconda3/envs/dsci552_hw0/lib/python3.11/site-packages/sklearn/svm/_base.py:1242: ConvergenceWarning: Liblinear failed to converge, increase the number of iterations.\n",
      "  warnings.warn(\n",
      "/Users/vedantmodi/anaconda3/envs/dsci552_hw0/lib/python3.11/site-packages/sklearn/svm/_base.py:1242: ConvergenceWarning: Liblinear failed to converge, increase the number of iterations.\n",
      "  warnings.warn(\n"
     ]
    },
    {
     "name": "stderr",
     "output_type": "stream",
     "text": [
      "/Users/vedantmodi/anaconda3/envs/dsci552_hw0/lib/python3.11/site-packages/sklearn/svm/_base.py:1242: ConvergenceWarning: Liblinear failed to converge, increase the number of iterations.\n",
      "  warnings.warn(\n",
      "/Users/vedantmodi/anaconda3/envs/dsci552_hw0/lib/python3.11/site-packages/sklearn/svm/_base.py:1242: ConvergenceWarning: Liblinear failed to converge, increase the number of iterations.\n",
      "  warnings.warn(\n",
      "/Users/vedantmodi/anaconda3/envs/dsci552_hw0/lib/python3.11/site-packages/sklearn/svm/_base.py:1242: ConvergenceWarning: Liblinear failed to converge, increase the number of iterations.\n",
      "  warnings.warn(\n",
      "/Users/vedantmodi/anaconda3/envs/dsci552_hw0/lib/python3.11/site-packages/sklearn/svm/_base.py:1242: ConvergenceWarning: Liblinear failed to converge, increase the number of iterations.\n",
      "  warnings.warn(\n",
      "/Users/vedantmodi/anaconda3/envs/dsci552_hw0/lib/python3.11/site-packages/sklearn/svm/_base.py:1242: ConvergenceWarning: Liblinear failed to converge, increase the number of iterations.\n",
      "  warnings.warn(\n",
      "/Users/vedantmodi/anaconda3/envs/dsci552_hw0/lib/python3.11/site-packages/sklearn/svm/_base.py:1242: ConvergenceWarning: Liblinear failed to converge, increase the number of iterations.\n",
      "  warnings.warn(\n",
      "/Users/vedantmodi/anaconda3/envs/dsci552_hw0/lib/python3.11/site-packages/sklearn/svm/_base.py:1242: ConvergenceWarning: Liblinear failed to converge, increase the number of iterations.\n",
      "  warnings.warn(\n",
      "/Users/vedantmodi/anaconda3/envs/dsci552_hw0/lib/python3.11/site-packages/sklearn/svm/_base.py:1242: ConvergenceWarning: Liblinear failed to converge, increase the number of iterations.\n",
      "  warnings.warn(\n",
      "/Users/vedantmodi/anaconda3/envs/dsci552_hw0/lib/python3.11/site-packages/sklearn/svm/_base.py:1242: ConvergenceWarning: Liblinear failed to converge, increase the number of iterations.\n",
      "  warnings.warn(\n",
      "/Users/vedantmodi/anaconda3/envs/dsci552_hw0/lib/python3.11/site-packages/sklearn/svm/_base.py:1242: ConvergenceWarning: Liblinear failed to converge, increase the number of iterations.\n",
      "  warnings.warn(\n",
      "/Users/vedantmodi/anaconda3/envs/dsci552_hw0/lib/python3.11/site-packages/sklearn/svm/_base.py:1242: ConvergenceWarning: Liblinear failed to converge, increase the number of iterations.\n",
      "  warnings.warn(\n",
      "/Users/vedantmodi/anaconda3/envs/dsci552_hw0/lib/python3.11/site-packages/sklearn/svm/_base.py:1242: ConvergenceWarning: Liblinear failed to converge, increase the number of iterations.\n",
      "  warnings.warn(\n",
      "/Users/vedantmodi/anaconda3/envs/dsci552_hw0/lib/python3.11/site-packages/sklearn/svm/_base.py:1242: ConvergenceWarning: Liblinear failed to converge, increase the number of iterations.\n",
      "  warnings.warn(\n",
      "/Users/vedantmodi/anaconda3/envs/dsci552_hw0/lib/python3.11/site-packages/sklearn/svm/_base.py:1242: ConvergenceWarning: Liblinear failed to converge, increase the number of iterations.\n",
      "  warnings.warn(\n",
      "/Users/vedantmodi/anaconda3/envs/dsci552_hw0/lib/python3.11/site-packages/sklearn/svm/_base.py:1242: ConvergenceWarning: Liblinear failed to converge, increase the number of iterations.\n",
      "  warnings.warn(\n",
      "/Users/vedantmodi/anaconda3/envs/dsci552_hw0/lib/python3.11/site-packages/sklearn/svm/_base.py:1242: ConvergenceWarning: Liblinear failed to converge, increase the number of iterations.\n",
      "  warnings.warn(\n",
      "/Users/vedantmodi/anaconda3/envs/dsci552_hw0/lib/python3.11/site-packages/sklearn/svm/_base.py:1242: ConvergenceWarning: Liblinear failed to converge, increase the number of iterations.\n",
      "  warnings.warn(\n",
      "/Users/vedantmodi/anaconda3/envs/dsci552_hw0/lib/python3.11/site-packages/sklearn/svm/_base.py:1242: ConvergenceWarning: Liblinear failed to converge, increase the number of iterations.\n",
      "  warnings.warn(\n",
      "/Users/vedantmodi/anaconda3/envs/dsci552_hw0/lib/python3.11/site-packages/sklearn/svm/_base.py:1242: ConvergenceWarning: Liblinear failed to converge, increase the number of iterations.\n",
      "  warnings.warn(\n",
      "/Users/vedantmodi/anaconda3/envs/dsci552_hw0/lib/python3.11/site-packages/sklearn/svm/_base.py:1242: ConvergenceWarning: Liblinear failed to converge, increase the number of iterations.\n",
      "  warnings.warn(\n",
      "/Users/vedantmodi/anaconda3/envs/dsci552_hw0/lib/python3.11/site-packages/sklearn/svm/_base.py:1242: ConvergenceWarning: Liblinear failed to converge, increase the number of iterations.\n",
      "  warnings.warn(\n",
      "/Users/vedantmodi/anaconda3/envs/dsci552_hw0/lib/python3.11/site-packages/sklearn/svm/_base.py:1242: ConvergenceWarning: Liblinear failed to converge, increase the number of iterations.\n",
      "  warnings.warn(\n",
      "/Users/vedantmodi/anaconda3/envs/dsci552_hw0/lib/python3.11/site-packages/sklearn/svm/_base.py:1242: ConvergenceWarning: Liblinear failed to converge, increase the number of iterations.\n",
      "  warnings.warn(\n",
      "/Users/vedantmodi/anaconda3/envs/dsci552_hw0/lib/python3.11/site-packages/sklearn/svm/_base.py:1242: ConvergenceWarning: Liblinear failed to converge, increase the number of iterations.\n",
      "  warnings.warn(\n",
      "/Users/vedantmodi/anaconda3/envs/dsci552_hw0/lib/python3.11/site-packages/sklearn/svm/_base.py:1242: ConvergenceWarning: Liblinear failed to converge, increase the number of iterations.\n",
      "  warnings.warn(\n",
      "/Users/vedantmodi/anaconda3/envs/dsci552_hw0/lib/python3.11/site-packages/sklearn/svm/_base.py:1242: ConvergenceWarning: Liblinear failed to converge, increase the number of iterations.\n",
      "  warnings.warn(\n",
      "/Users/vedantmodi/anaconda3/envs/dsci552_hw0/lib/python3.11/site-packages/sklearn/svm/_base.py:1242: ConvergenceWarning: Liblinear failed to converge, increase the number of iterations.\n",
      "  warnings.warn(\n",
      "/Users/vedantmodi/anaconda3/envs/dsci552_hw0/lib/python3.11/site-packages/sklearn/svm/_base.py:1242: ConvergenceWarning: Liblinear failed to converge, increase the number of iterations.\n",
      "  warnings.warn(\n",
      "/Users/vedantmodi/anaconda3/envs/dsci552_hw0/lib/python3.11/site-packages/sklearn/svm/_base.py:1242: ConvergenceWarning: Liblinear failed to converge, increase the number of iterations.\n",
      "  warnings.warn(\n",
      "/Users/vedantmodi/anaconda3/envs/dsci552_hw0/lib/python3.11/site-packages/sklearn/svm/_base.py:1242: ConvergenceWarning: Liblinear failed to converge, increase the number of iterations.\n",
      "  warnings.warn(\n",
      "/Users/vedantmodi/anaconda3/envs/dsci552_hw0/lib/python3.11/site-packages/sklearn/svm/_base.py:1242: ConvergenceWarning: Liblinear failed to converge, increase the number of iterations.\n",
      "  warnings.warn(\n",
      "/Users/vedantmodi/anaconda3/envs/dsci552_hw0/lib/python3.11/site-packages/sklearn/svm/_base.py:1242: ConvergenceWarning: Liblinear failed to converge, increase the number of iterations.\n",
      "  warnings.warn(\n",
      "/Users/vedantmodi/anaconda3/envs/dsci552_hw0/lib/python3.11/site-packages/sklearn/svm/_base.py:1242: ConvergenceWarning: Liblinear failed to converge, increase the number of iterations.\n",
      "  warnings.warn(\n",
      "/Users/vedantmodi/anaconda3/envs/dsci552_hw0/lib/python3.11/site-packages/sklearn/svm/_base.py:1242: ConvergenceWarning: Liblinear failed to converge, increase the number of iterations.\n",
      "  warnings.warn(\n",
      "/Users/vedantmodi/anaconda3/envs/dsci552_hw0/lib/python3.11/site-packages/sklearn/svm/_base.py:1242: ConvergenceWarning: Liblinear failed to converge, increase the number of iterations.\n",
      "  warnings.warn(\n",
      "/Users/vedantmodi/anaconda3/envs/dsci552_hw0/lib/python3.11/site-packages/sklearn/svm/_base.py:1242: ConvergenceWarning: Liblinear failed to converge, increase the number of iterations.\n",
      "  warnings.warn(\n",
      "/Users/vedantmodi/anaconda3/envs/dsci552_hw0/lib/python3.11/site-packages/sklearn/svm/_base.py:1242: ConvergenceWarning: Liblinear failed to converge, increase the number of iterations.\n",
      "  warnings.warn(\n",
      "/Users/vedantmodi/anaconda3/envs/dsci552_hw0/lib/python3.11/site-packages/sklearn/svm/_base.py:1242: ConvergenceWarning: Liblinear failed to converge, increase the number of iterations.\n",
      "  warnings.warn(\n",
      "/Users/vedantmodi/anaconda3/envs/dsci552_hw0/lib/python3.11/site-packages/sklearn/svm/_base.py:1242: ConvergenceWarning: Liblinear failed to converge, increase the number of iterations.\n",
      "  warnings.warn(\n",
      "/Users/vedantmodi/anaconda3/envs/dsci552_hw0/lib/python3.11/site-packages/sklearn/svm/_base.py:1242: ConvergenceWarning: Liblinear failed to converge, increase the number of iterations.\n",
      "  warnings.warn(\n",
      "/Users/vedantmodi/anaconda3/envs/dsci552_hw0/lib/python3.11/site-packages/sklearn/svm/_base.py:1242: ConvergenceWarning: Liblinear failed to converge, increase the number of iterations.\n",
      "  warnings.warn(\n"
     ]
    },
    {
     "name": "stderr",
     "output_type": "stream",
     "text": [
      "/Users/vedantmodi/anaconda3/envs/dsci552_hw0/lib/python3.11/site-packages/sklearn/svm/_base.py:1242: ConvergenceWarning: Liblinear failed to converge, increase the number of iterations.\n",
      "  warnings.warn(\n",
      "/Users/vedantmodi/anaconda3/envs/dsci552_hw0/lib/python3.11/site-packages/sklearn/svm/_base.py:1242: ConvergenceWarning: Liblinear failed to converge, increase the number of iterations.\n",
      "  warnings.warn(\n",
      "/Users/vedantmodi/anaconda3/envs/dsci552_hw0/lib/python3.11/site-packages/sklearn/svm/_base.py:1242: ConvergenceWarning: Liblinear failed to converge, increase the number of iterations.\n",
      "  warnings.warn(\n",
      "/Users/vedantmodi/anaconda3/envs/dsci552_hw0/lib/python3.11/site-packages/sklearn/svm/_base.py:1242: ConvergenceWarning: Liblinear failed to converge, increase the number of iterations.\n",
      "  warnings.warn(\n",
      "/Users/vedantmodi/anaconda3/envs/dsci552_hw0/lib/python3.11/site-packages/sklearn/svm/_base.py:1242: ConvergenceWarning: Liblinear failed to converge, increase the number of iterations.\n",
      "  warnings.warn(\n",
      "/Users/vedantmodi/anaconda3/envs/dsci552_hw0/lib/python3.11/site-packages/sklearn/svm/_base.py:1242: ConvergenceWarning: Liblinear failed to converge, increase the number of iterations.\n",
      "  warnings.warn(\n",
      "/Users/vedantmodi/anaconda3/envs/dsci552_hw0/lib/python3.11/site-packages/sklearn/svm/_base.py:1242: ConvergenceWarning: Liblinear failed to converge, increase the number of iterations.\n",
      "  warnings.warn(\n"
     ]
    },
    {
     "name": "stdout",
     "output_type": "stream",
     "text": [
      "Best hyperparameters for Family: C = 1000 on Standardized Data using L1-penalized SVMs\n",
      "Best hyperparameters for Genus: C = 100 on Standardized Data using L1-penalized SVMs\n",
      "Best hyperparameters for Species: C = 100 on Standardized Data using L1-penalized SVMs\n",
      "Exact Match Ratio: 0.9106\n",
      "Hamming Score: 2.8291\n"
     ]
    }
   ],
   "source": [
    "svm_family = LinearSVC(penalty='l1', dual=False, max_iter=10000)  # L1-penalized LinearSVC for Families\n",
    "svm_genus = LinearSVC(penalty='l1', dual=False, max_iter=10000)   # L1-penalized LinearSVC for Genus\n",
    "svm_species = LinearSVC(penalty='l1', dual=False, max_iter=10000) # L1-penalized LinearSVC for Species\n",
    "\n",
    "param_grid_C = {'C': [0.01, 0.1, 1, 10, 100, 1000]}\n",
    "cv = 10\n",
    "\n",
    "svm_family_cv = GridSearchCV(svm_family, param_grid_C, cv=cv, n_jobs=-1)\n",
    "svm_genus_cv = GridSearchCV(svm_genus, param_grid_C, cv=cv, n_jobs=-1)\n",
    "svm_species_cv = GridSearchCV(svm_species, param_grid_C, cv=cv, n_jobs=-1)\n",
    "\n",
    "svm_family_cv.fit(trainX, trainFamily)\n",
    "svm_genus_cv.fit(trainX, trainGenus)\n",
    "svm_species_cv.fit(trainX, trainSpecies)\n",
    "\n",
    "best_C_family = svm_family_cv.best_params_['C']\n",
    "best_C_genus = svm_genus_cv.best_params_['C']\n",
    "best_C_species = svm_species_cv.best_params_['C']\n",
    "\n",
    "svm_family = LinearSVC(C=best_C_family, penalty='l1', dual=False, max_iter=10000)\n",
    "svm_genus = LinearSVC(C=best_C_genus, penalty='l1', dual=False, max_iter=10000)\n",
    "svm_species = LinearSVC(C=best_C_species, penalty='l1', dual=False, max_iter=10000)\n",
    "\n",
    "svm_family.fit(trainX, trainFamily)\n",
    "svm_genus.fit(trainX, trainGenus)\n",
    "svm_species.fit(trainX, trainSpecies)\n",
    "\n",
    "pred_family = svm_family.predict(testX)\n",
    "pred_genus = svm_genus.predict(testX)\n",
    "pred_species = svm_species.predict(testX)\n",
    "\n",
    "exact_match_ratio = np.all([testFamily == pred_family, testGenus == pred_genus, testSpecies == pred_species], axis=0).mean()\n",
    "\n",
    "hamming_score = 1 - hamming_loss(testFamily, pred_family) + 1 - hamming_loss(testGenus, pred_genus) + 1 - hamming_loss(testSpecies, pred_species)\n",
    "\n",
    "print(f\"Best hyperparameters for Family: C = {best_C_family} on Standardized Data using L1-penalized SVMs\")\n",
    "print(f\"Best hyperparameters for Genus: C = {best_C_genus} on Standardized Data using L1-penalized SVMs\")\n",
    "print(f\"Best hyperparameters for Species: C = {best_C_species} on Standardized Data using L1-penalized SVMs\")\n",
    "print(f\"Exact Match Ratio: {exact_match_ratio:.4f}\")\n",
    "print(f\"Hamming Score: {hamming_score:.4f}\")"
   ]
  },
  {
   "cell_type": "markdown",
   "metadata": {},
   "source": [
    "#### (iv) Repeat 1(b)iii by using SMOTE or any other method for imbalance"
   ]
  },
  {
   "cell_type": "code",
   "execution_count": 12,
   "metadata": {},
   "outputs": [
    {
     "name": "stderr",
     "output_type": "stream",
     "text": [
      "/Users/vedantmodi/anaconda3/envs/dsci552_hw0/lib/python3.11/site-packages/sklearn/svm/_base.py:1242: ConvergenceWarning: Liblinear failed to converge, increase the number of iterations.\n",
      "  warnings.warn(\n",
      "/Users/vedantmodi/anaconda3/envs/dsci552_hw0/lib/python3.11/site-packages/sklearn/svm/_base.py:1242: ConvergenceWarning: Liblinear failed to converge, increase the number of iterations.\n",
      "  warnings.warn(\n",
      "/Users/vedantmodi/anaconda3/envs/dsci552_hw0/lib/python3.11/site-packages/sklearn/svm/_base.py:1242: ConvergenceWarning: Liblinear failed to converge, increase the number of iterations.\n",
      "  warnings.warn(\n",
      "/Users/vedantmodi/anaconda3/envs/dsci552_hw0/lib/python3.11/site-packages/sklearn/svm/_base.py:1242: ConvergenceWarning: Liblinear failed to converge, increase the number of iterations.\n",
      "  warnings.warn(\n",
      "/Users/vedantmodi/anaconda3/envs/dsci552_hw0/lib/python3.11/site-packages/sklearn/svm/_base.py:1242: ConvergenceWarning: Liblinear failed to converge, increase the number of iterations.\n",
      "  warnings.warn(\n",
      "/Users/vedantmodi/anaconda3/envs/dsci552_hw0/lib/python3.11/site-packages/sklearn/svm/_base.py:1242: ConvergenceWarning: Liblinear failed to converge, increase the number of iterations.\n",
      "  warnings.warn(\n",
      "/Users/vedantmodi/anaconda3/envs/dsci552_hw0/lib/python3.11/site-packages/sklearn/svm/_base.py:1242: ConvergenceWarning: Liblinear failed to converge, increase the number of iterations.\n",
      "  warnings.warn(\n",
      "/Users/vedantmodi/anaconda3/envs/dsci552_hw0/lib/python3.11/site-packages/sklearn/svm/_base.py:1242: ConvergenceWarning: Liblinear failed to converge, increase the number of iterations.\n",
      "  warnings.warn(\n",
      "/Users/vedantmodi/anaconda3/envs/dsci552_hw0/lib/python3.11/site-packages/sklearn/svm/_base.py:1242: ConvergenceWarning: Liblinear failed to converge, increase the number of iterations.\n",
      "  warnings.warn(\n",
      "/Users/vedantmodi/anaconda3/envs/dsci552_hw0/lib/python3.11/site-packages/sklearn/svm/_base.py:1242: ConvergenceWarning: Liblinear failed to converge, increase the number of iterations.\n",
      "  warnings.warn(\n",
      "/Users/vedantmodi/anaconda3/envs/dsci552_hw0/lib/python3.11/site-packages/sklearn/svm/_base.py:1242: ConvergenceWarning: Liblinear failed to converge, increase the number of iterations.\n",
      "  warnings.warn(\n",
      "/Users/vedantmodi/anaconda3/envs/dsci552_hw0/lib/python3.11/site-packages/sklearn/svm/_base.py:1242: ConvergenceWarning: Liblinear failed to converge, increase the number of iterations.\n",
      "  warnings.warn(\n",
      "/Users/vedantmodi/anaconda3/envs/dsci552_hw0/lib/python3.11/site-packages/sklearn/svm/_base.py:1242: ConvergenceWarning: Liblinear failed to converge, increase the number of iterations.\n",
      "  warnings.warn(\n",
      "/Users/vedantmodi/anaconda3/envs/dsci552_hw0/lib/python3.11/site-packages/sklearn/svm/_base.py:1242: ConvergenceWarning: Liblinear failed to converge, increase the number of iterations.\n",
      "  warnings.warn(\n",
      "/Users/vedantmodi/anaconda3/envs/dsci552_hw0/lib/python3.11/site-packages/sklearn/svm/_base.py:1242: ConvergenceWarning: Liblinear failed to converge, increase the number of iterations.\n",
      "  warnings.warn(\n",
      "/Users/vedantmodi/anaconda3/envs/dsci552_hw0/lib/python3.11/site-packages/sklearn/svm/_base.py:1242: ConvergenceWarning: Liblinear failed to converge, increase the number of iterations.\n",
      "  warnings.warn(\n",
      "/Users/vedantmodi/anaconda3/envs/dsci552_hw0/lib/python3.11/site-packages/sklearn/svm/_base.py:1242: ConvergenceWarning: Liblinear failed to converge, increase the number of iterations.\n",
      "  warnings.warn(\n",
      "/Users/vedantmodi/anaconda3/envs/dsci552_hw0/lib/python3.11/site-packages/sklearn/svm/_base.py:1242: ConvergenceWarning: Liblinear failed to converge, increase the number of iterations.\n",
      "  warnings.warn(\n",
      "/Users/vedantmodi/anaconda3/envs/dsci552_hw0/lib/python3.11/site-packages/sklearn/svm/_base.py:1242: ConvergenceWarning: Liblinear failed to converge, increase the number of iterations.\n",
      "  warnings.warn(\n",
      "/Users/vedantmodi/anaconda3/envs/dsci552_hw0/lib/python3.11/site-packages/sklearn/svm/_base.py:1242: ConvergenceWarning: Liblinear failed to converge, increase the number of iterations.\n",
      "  warnings.warn(\n",
      "/Users/vedantmodi/anaconda3/envs/dsci552_hw0/lib/python3.11/site-packages/sklearn/svm/_base.py:1242: ConvergenceWarning: Liblinear failed to converge, increase the number of iterations.\n",
      "  warnings.warn(\n",
      "/Users/vedantmodi/anaconda3/envs/dsci552_hw0/lib/python3.11/site-packages/sklearn/svm/_base.py:1242: ConvergenceWarning: Liblinear failed to converge, increase the number of iterations.\n",
      "  warnings.warn(\n",
      "/Users/vedantmodi/anaconda3/envs/dsci552_hw0/lib/python3.11/site-packages/sklearn/svm/_base.py:1242: ConvergenceWarning: Liblinear failed to converge, increase the number of iterations.\n",
      "  warnings.warn(\n",
      "/Users/vedantmodi/anaconda3/envs/dsci552_hw0/lib/python3.11/site-packages/sklearn/svm/_base.py:1242: ConvergenceWarning: Liblinear failed to converge, increase the number of iterations.\n",
      "  warnings.warn(\n",
      "/Users/vedantmodi/anaconda3/envs/dsci552_hw0/lib/python3.11/site-packages/sklearn/svm/_base.py:1242: ConvergenceWarning: Liblinear failed to converge, increase the number of iterations.\n",
      "  warnings.warn(\n",
      "/Users/vedantmodi/anaconda3/envs/dsci552_hw0/lib/python3.11/site-packages/sklearn/svm/_base.py:1242: ConvergenceWarning: Liblinear failed to converge, increase the number of iterations.\n",
      "  warnings.warn(\n",
      "/Users/vedantmodi/anaconda3/envs/dsci552_hw0/lib/python3.11/site-packages/sklearn/svm/_base.py:1242: ConvergenceWarning: Liblinear failed to converge, increase the number of iterations.\n",
      "  warnings.warn(\n",
      "/Users/vedantmodi/anaconda3/envs/dsci552_hw0/lib/python3.11/site-packages/sklearn/svm/_base.py:1242: ConvergenceWarning: Liblinear failed to converge, increase the number of iterations.\n",
      "  warnings.warn(\n",
      "/Users/vedantmodi/anaconda3/envs/dsci552_hw0/lib/python3.11/site-packages/sklearn/svm/_base.py:1242: ConvergenceWarning: Liblinear failed to converge, increase the number of iterations.\n",
      "  warnings.warn(\n",
      "/Users/vedantmodi/anaconda3/envs/dsci552_hw0/lib/python3.11/site-packages/sklearn/svm/_base.py:1242: ConvergenceWarning: Liblinear failed to converge, increase the number of iterations.\n",
      "  warnings.warn(\n"
     ]
    }
   ],
   "source": [
    "smote = SMOTE(random_state=42)\n",
    "trainX_resampled, trainFamily_resampled = smote.fit_resample(trainX, trainFamily)\n",
    "\n",
    "svm_family = LinearSVC(penalty='l1', dual=False, max_iter=10000)  # L1-penalized LinearSVC for Families\n",
    "\n",
    "param_grid_C =  {'C': [0.01, 0.1, 1, 10, 100, 1000]}\n",
    "cv = 10\n",
    "\n",
    "svm_family_cv = GridSearchCV(svm_family, param_grid_C, cv=cv, n_jobs=-1)\n",
    "\n",
    "svm_family_cv.fit(trainX_resampled, trainFamily_resampled)\n",
    "\n",
    "best_C_family = svm_family_cv.best_params_['C']\n",
    "\n",
    "svm_family = LinearSVC(C=best_C_family, penalty='l1', dual=False, max_iter=10000)\n",
    "\n",
    "svm_family.fit(trainX_resampled, trainFamily_resampled)\n",
    "\n",
    "pred_family = svm_family.predict(testX)"
   ]
  },
  {
   "cell_type": "code",
   "execution_count": 13,
   "metadata": {},
   "outputs": [
    {
     "name": "stderr",
     "output_type": "stream",
     "text": [
      "/Users/vedantmodi/anaconda3/envs/dsci552_hw0/lib/python3.11/site-packages/sklearn/svm/_base.py:1242: ConvergenceWarning: Liblinear failed to converge, increase the number of iterations.\n",
      "  warnings.warn(\n",
      "/Users/vedantmodi/anaconda3/envs/dsci552_hw0/lib/python3.11/site-packages/sklearn/svm/_base.py:1242: ConvergenceWarning: Liblinear failed to converge, increase the number of iterations.\n",
      "  warnings.warn(\n",
      "/Users/vedantmodi/anaconda3/envs/dsci552_hw0/lib/python3.11/site-packages/sklearn/svm/_base.py:1242: ConvergenceWarning: Liblinear failed to converge, increase the number of iterations.\n",
      "  warnings.warn(\n",
      "/Users/vedantmodi/anaconda3/envs/dsci552_hw0/lib/python3.11/site-packages/sklearn/svm/_base.py:1242: ConvergenceWarning: Liblinear failed to converge, increase the number of iterations.\n",
      "  warnings.warn(\n",
      "/Users/vedantmodi/anaconda3/envs/dsci552_hw0/lib/python3.11/site-packages/sklearn/svm/_base.py:1242: ConvergenceWarning: Liblinear failed to converge, increase the number of iterations.\n",
      "  warnings.warn(\n",
      "/Users/vedantmodi/anaconda3/envs/dsci552_hw0/lib/python3.11/site-packages/sklearn/svm/_base.py:1242: ConvergenceWarning: Liblinear failed to converge, increase the number of iterations.\n",
      "  warnings.warn(\n",
      "/Users/vedantmodi/anaconda3/envs/dsci552_hw0/lib/python3.11/site-packages/sklearn/svm/_base.py:1242: ConvergenceWarning: Liblinear failed to converge, increase the number of iterations.\n",
      "  warnings.warn(\n",
      "/Users/vedantmodi/anaconda3/envs/dsci552_hw0/lib/python3.11/site-packages/sklearn/svm/_base.py:1242: ConvergenceWarning: Liblinear failed to converge, increase the number of iterations.\n",
      "  warnings.warn(\n",
      "/Users/vedantmodi/anaconda3/envs/dsci552_hw0/lib/python3.11/site-packages/sklearn/svm/_base.py:1242: ConvergenceWarning: Liblinear failed to converge, increase the number of iterations.\n",
      "  warnings.warn(\n",
      "/Users/vedantmodi/anaconda3/envs/dsci552_hw0/lib/python3.11/site-packages/sklearn/svm/_base.py:1242: ConvergenceWarning: Liblinear failed to converge, increase the number of iterations.\n",
      "  warnings.warn(\n",
      "/Users/vedantmodi/anaconda3/envs/dsci552_hw0/lib/python3.11/site-packages/sklearn/svm/_base.py:1242: ConvergenceWarning: Liblinear failed to converge, increase the number of iterations.\n",
      "  warnings.warn(\n",
      "/Users/vedantmodi/anaconda3/envs/dsci552_hw0/lib/python3.11/site-packages/sklearn/svm/_base.py:1242: ConvergenceWarning: Liblinear failed to converge, increase the number of iterations.\n",
      "  warnings.warn(\n",
      "/Users/vedantmodi/anaconda3/envs/dsci552_hw0/lib/python3.11/site-packages/sklearn/svm/_base.py:1242: ConvergenceWarning: Liblinear failed to converge, increase the number of iterations.\n",
      "  warnings.warn(\n",
      "/Users/vedantmodi/anaconda3/envs/dsci552_hw0/lib/python3.11/site-packages/sklearn/svm/_base.py:1242: ConvergenceWarning: Liblinear failed to converge, increase the number of iterations.\n",
      "  warnings.warn(\n",
      "/Users/vedantmodi/anaconda3/envs/dsci552_hw0/lib/python3.11/site-packages/sklearn/svm/_base.py:1242: ConvergenceWarning: Liblinear failed to converge, increase the number of iterations.\n",
      "  warnings.warn(\n",
      "/Users/vedantmodi/anaconda3/envs/dsci552_hw0/lib/python3.11/site-packages/sklearn/svm/_base.py:1242: ConvergenceWarning: Liblinear failed to converge, increase the number of iterations.\n",
      "  warnings.warn(\n",
      "/Users/vedantmodi/anaconda3/envs/dsci552_hw0/lib/python3.11/site-packages/sklearn/svm/_base.py:1242: ConvergenceWarning: Liblinear failed to converge, increase the number of iterations.\n",
      "  warnings.warn(\n",
      "/Users/vedantmodi/anaconda3/envs/dsci552_hw0/lib/python3.11/site-packages/sklearn/svm/_base.py:1242: ConvergenceWarning: Liblinear failed to converge, increase the number of iterations.\n",
      "  warnings.warn(\n",
      "/Users/vedantmodi/anaconda3/envs/dsci552_hw0/lib/python3.11/site-packages/sklearn/svm/_base.py:1242: ConvergenceWarning: Liblinear failed to converge, increase the number of iterations.\n",
      "  warnings.warn(\n",
      "/Users/vedantmodi/anaconda3/envs/dsci552_hw0/lib/python3.11/site-packages/sklearn/svm/_base.py:1242: ConvergenceWarning: Liblinear failed to converge, increase the number of iterations.\n",
      "  warnings.warn(\n",
      "/Users/vedantmodi/anaconda3/envs/dsci552_hw0/lib/python3.11/site-packages/sklearn/svm/_base.py:1242: ConvergenceWarning: Liblinear failed to converge, increase the number of iterations.\n",
      "  warnings.warn(\n",
      "/Users/vedantmodi/anaconda3/envs/dsci552_hw0/lib/python3.11/site-packages/sklearn/svm/_base.py:1242: ConvergenceWarning: Liblinear failed to converge, increase the number of iterations.\n",
      "  warnings.warn(\n",
      "/Users/vedantmodi/anaconda3/envs/dsci552_hw0/lib/python3.11/site-packages/sklearn/svm/_base.py:1242: ConvergenceWarning: Liblinear failed to converge, increase the number of iterations.\n",
      "  warnings.warn(\n",
      "/Users/vedantmodi/anaconda3/envs/dsci552_hw0/lib/python3.11/site-packages/sklearn/svm/_base.py:1242: ConvergenceWarning: Liblinear failed to converge, increase the number of iterations.\n",
      "  warnings.warn(\n",
      "/Users/vedantmodi/anaconda3/envs/dsci552_hw0/lib/python3.11/site-packages/sklearn/svm/_base.py:1242: ConvergenceWarning: Liblinear failed to converge, increase the number of iterations.\n",
      "  warnings.warn(\n",
      "/Users/vedantmodi/anaconda3/envs/dsci552_hw0/lib/python3.11/site-packages/sklearn/svm/_base.py:1242: ConvergenceWarning: Liblinear failed to converge, increase the number of iterations.\n",
      "  warnings.warn(\n",
      "/Users/vedantmodi/anaconda3/envs/dsci552_hw0/lib/python3.11/site-packages/sklearn/svm/_base.py:1242: ConvergenceWarning: Liblinear failed to converge, increase the number of iterations.\n",
      "  warnings.warn(\n",
      "/Users/vedantmodi/anaconda3/envs/dsci552_hw0/lib/python3.11/site-packages/sklearn/svm/_base.py:1242: ConvergenceWarning: Liblinear failed to converge, increase the number of iterations.\n",
      "  warnings.warn(\n",
      "/Users/vedantmodi/anaconda3/envs/dsci552_hw0/lib/python3.11/site-packages/sklearn/svm/_base.py:1242: ConvergenceWarning: Liblinear failed to converge, increase the number of iterations.\n",
      "  warnings.warn(\n",
      "/Users/vedantmodi/anaconda3/envs/dsci552_hw0/lib/python3.11/site-packages/sklearn/svm/_base.py:1242: ConvergenceWarning: Liblinear failed to converge, increase the number of iterations.\n",
      "  warnings.warn(\n",
      "/Users/vedantmodi/anaconda3/envs/dsci552_hw0/lib/python3.11/site-packages/sklearn/svm/_base.py:1242: ConvergenceWarning: Liblinear failed to converge, increase the number of iterations.\n",
      "  warnings.warn(\n",
      "/Users/vedantmodi/anaconda3/envs/dsci552_hw0/lib/python3.11/site-packages/sklearn/svm/_base.py:1242: ConvergenceWarning: Liblinear failed to converge, increase the number of iterations.\n",
      "  warnings.warn(\n",
      "/Users/vedantmodi/anaconda3/envs/dsci552_hw0/lib/python3.11/site-packages/sklearn/svm/_base.py:1242: ConvergenceWarning: Liblinear failed to converge, increase the number of iterations.\n",
      "  warnings.warn(\n",
      "/Users/vedantmodi/anaconda3/envs/dsci552_hw0/lib/python3.11/site-packages/sklearn/svm/_base.py:1242: ConvergenceWarning: Liblinear failed to converge, increase the number of iterations.\n",
      "  warnings.warn(\n",
      "/Users/vedantmodi/anaconda3/envs/dsci552_hw0/lib/python3.11/site-packages/sklearn/svm/_base.py:1242: ConvergenceWarning: Liblinear failed to converge, increase the number of iterations.\n",
      "  warnings.warn(\n",
      "/Users/vedantmodi/anaconda3/envs/dsci552_hw0/lib/python3.11/site-packages/sklearn/svm/_base.py:1242: ConvergenceWarning: Liblinear failed to converge, increase the number of iterations.\n",
      "  warnings.warn(\n",
      "/Users/vedantmodi/anaconda3/envs/dsci552_hw0/lib/python3.11/site-packages/sklearn/svm/_base.py:1242: ConvergenceWarning: Liblinear failed to converge, increase the number of iterations.\n",
      "  warnings.warn(\n",
      "/Users/vedantmodi/anaconda3/envs/dsci552_hw0/lib/python3.11/site-packages/sklearn/svm/_base.py:1242: ConvergenceWarning: Liblinear failed to converge, increase the number of iterations.\n",
      "  warnings.warn(\n",
      "/Users/vedantmodi/anaconda3/envs/dsci552_hw0/lib/python3.11/site-packages/sklearn/svm/_base.py:1242: ConvergenceWarning: Liblinear failed to converge, increase the number of iterations.\n",
      "  warnings.warn(\n",
      "/Users/vedantmodi/anaconda3/envs/dsci552_hw0/lib/python3.11/site-packages/sklearn/svm/_base.py:1242: ConvergenceWarning: Liblinear failed to converge, increase the number of iterations.\n",
      "  warnings.warn(\n"
     ]
    }
   ],
   "source": [
    "smote = SMOTE(random_state=42)\n",
    "trainX_resampled, trainGenus_resampled = smote.fit_resample(trainX, trainGenus)\n",
    "\n",
    "svm_genus = LinearSVC(penalty='l1', dual=False, max_iter=10000)  # L1-penalized LinearSVC for Families\n",
    "\n",
    "param_grid_C =  {'C': [0.01, 0.1, 1, 10, 100, 1000]}\n",
    "cv = 10\n",
    "\n",
    "svm_genus_cv = GridSearchCV(svm_genus, param_grid_C, cv=cv, n_jobs=-1)\n",
    "\n",
    "svm_genus_cv.fit(trainX_resampled, trainGenus_resampled)\n",
    "\n",
    "best_C_genus = svm_genus_cv.best_params_['C']\n",
    "\n",
    "svm_genus = LinearSVC(C=best_C_genus, penalty='l1', dual=False, max_iter=10000)\n",
    "\n",
    "svm_genus.fit(trainX_resampled, trainGenus_resampled)\n",
    "\n",
    "pred_genus = svm_genus.predict(testX)"
   ]
  },
  {
   "cell_type": "code",
   "execution_count": 14,
   "metadata": {},
   "outputs": [
    {
     "name": "stderr",
     "output_type": "stream",
     "text": [
      "/Users/vedantmodi/anaconda3/envs/dsci552_hw0/lib/python3.11/site-packages/sklearn/svm/_base.py:1242: ConvergenceWarning: Liblinear failed to converge, increase the number of iterations.\n",
      "  warnings.warn(\n",
      "/Users/vedantmodi/anaconda3/envs/dsci552_hw0/lib/python3.11/site-packages/sklearn/svm/_base.py:1242: ConvergenceWarning: Liblinear failed to converge, increase the number of iterations.\n",
      "  warnings.warn(\n",
      "/Users/vedantmodi/anaconda3/envs/dsci552_hw0/lib/python3.11/site-packages/sklearn/svm/_base.py:1242: ConvergenceWarning: Liblinear failed to converge, increase the number of iterations.\n",
      "  warnings.warn(\n",
      "/Users/vedantmodi/anaconda3/envs/dsci552_hw0/lib/python3.11/site-packages/sklearn/svm/_base.py:1242: ConvergenceWarning: Liblinear failed to converge, increase the number of iterations.\n",
      "  warnings.warn(\n",
      "/Users/vedantmodi/anaconda3/envs/dsci552_hw0/lib/python3.11/site-packages/sklearn/svm/_base.py:1242: ConvergenceWarning: Liblinear failed to converge, increase the number of iterations.\n",
      "  warnings.warn(\n",
      "/Users/vedantmodi/anaconda3/envs/dsci552_hw0/lib/python3.11/site-packages/sklearn/svm/_base.py:1242: ConvergenceWarning: Liblinear failed to converge, increase the number of iterations.\n",
      "  warnings.warn(\n",
      "/Users/vedantmodi/anaconda3/envs/dsci552_hw0/lib/python3.11/site-packages/sklearn/svm/_base.py:1242: ConvergenceWarning: Liblinear failed to converge, increase the number of iterations.\n",
      "  warnings.warn(\n",
      "/Users/vedantmodi/anaconda3/envs/dsci552_hw0/lib/python3.11/site-packages/sklearn/svm/_base.py:1242: ConvergenceWarning: Liblinear failed to converge, increase the number of iterations.\n",
      "  warnings.warn(\n",
      "/Users/vedantmodi/anaconda3/envs/dsci552_hw0/lib/python3.11/site-packages/sklearn/svm/_base.py:1242: ConvergenceWarning: Liblinear failed to converge, increase the number of iterations.\n",
      "  warnings.warn(\n",
      "/Users/vedantmodi/anaconda3/envs/dsci552_hw0/lib/python3.11/site-packages/sklearn/svm/_base.py:1242: ConvergenceWarning: Liblinear failed to converge, increase the number of iterations.\n",
      "  warnings.warn(\n",
      "/Users/vedantmodi/anaconda3/envs/dsci552_hw0/lib/python3.11/site-packages/sklearn/svm/_base.py:1242: ConvergenceWarning: Liblinear failed to converge, increase the number of iterations.\n",
      "  warnings.warn(\n",
      "/Users/vedantmodi/anaconda3/envs/dsci552_hw0/lib/python3.11/site-packages/sklearn/svm/_base.py:1242: ConvergenceWarning: Liblinear failed to converge, increase the number of iterations.\n",
      "  warnings.warn(\n",
      "/Users/vedantmodi/anaconda3/envs/dsci552_hw0/lib/python3.11/site-packages/sklearn/svm/_base.py:1242: ConvergenceWarning: Liblinear failed to converge, increase the number of iterations.\n",
      "  warnings.warn(\n",
      "/Users/vedantmodi/anaconda3/envs/dsci552_hw0/lib/python3.11/site-packages/sklearn/svm/_base.py:1242: ConvergenceWarning: Liblinear failed to converge, increase the number of iterations.\n",
      "  warnings.warn(\n",
      "/Users/vedantmodi/anaconda3/envs/dsci552_hw0/lib/python3.11/site-packages/sklearn/svm/_base.py:1242: ConvergenceWarning: Liblinear failed to converge, increase the number of iterations.\n",
      "  warnings.warn(\n",
      "/Users/vedantmodi/anaconda3/envs/dsci552_hw0/lib/python3.11/site-packages/sklearn/svm/_base.py:1242: ConvergenceWarning: Liblinear failed to converge, increase the number of iterations.\n",
      "  warnings.warn(\n",
      "/Users/vedantmodi/anaconda3/envs/dsci552_hw0/lib/python3.11/site-packages/sklearn/svm/_base.py:1242: ConvergenceWarning: Liblinear failed to converge, increase the number of iterations.\n",
      "  warnings.warn(\n",
      "/Users/vedantmodi/anaconda3/envs/dsci552_hw0/lib/python3.11/site-packages/sklearn/svm/_base.py:1242: ConvergenceWarning: Liblinear failed to converge, increase the number of iterations.\n",
      "  warnings.warn(\n",
      "/Users/vedantmodi/anaconda3/envs/dsci552_hw0/lib/python3.11/site-packages/sklearn/svm/_base.py:1242: ConvergenceWarning: Liblinear failed to converge, increase the number of iterations.\n",
      "  warnings.warn(\n",
      "/Users/vedantmodi/anaconda3/envs/dsci552_hw0/lib/python3.11/site-packages/sklearn/svm/_base.py:1242: ConvergenceWarning: Liblinear failed to converge, increase the number of iterations.\n",
      "  warnings.warn(\n",
      "/Users/vedantmodi/anaconda3/envs/dsci552_hw0/lib/python3.11/site-packages/sklearn/svm/_base.py:1242: ConvergenceWarning: Liblinear failed to converge, increase the number of iterations.\n",
      "  warnings.warn(\n",
      "/Users/vedantmodi/anaconda3/envs/dsci552_hw0/lib/python3.11/site-packages/sklearn/svm/_base.py:1242: ConvergenceWarning: Liblinear failed to converge, increase the number of iterations.\n",
      "  warnings.warn(\n",
      "/Users/vedantmodi/anaconda3/envs/dsci552_hw0/lib/python3.11/site-packages/sklearn/svm/_base.py:1242: ConvergenceWarning: Liblinear failed to converge, increase the number of iterations.\n",
      "  warnings.warn(\n",
      "/Users/vedantmodi/anaconda3/envs/dsci552_hw0/lib/python3.11/site-packages/sklearn/svm/_base.py:1242: ConvergenceWarning: Liblinear failed to converge, increase the number of iterations.\n",
      "  warnings.warn(\n",
      "/Users/vedantmodi/anaconda3/envs/dsci552_hw0/lib/python3.11/site-packages/sklearn/svm/_base.py:1242: ConvergenceWarning: Liblinear failed to converge, increase the number of iterations.\n",
      "  warnings.warn(\n",
      "/Users/vedantmodi/anaconda3/envs/dsci552_hw0/lib/python3.11/site-packages/sklearn/svm/_base.py:1242: ConvergenceWarning: Liblinear failed to converge, increase the number of iterations.\n",
      "  warnings.warn(\n",
      "/Users/vedantmodi/anaconda3/envs/dsci552_hw0/lib/python3.11/site-packages/sklearn/svm/_base.py:1242: ConvergenceWarning: Liblinear failed to converge, increase the number of iterations.\n",
      "  warnings.warn(\n",
      "/Users/vedantmodi/anaconda3/envs/dsci552_hw0/lib/python3.11/site-packages/sklearn/svm/_base.py:1242: ConvergenceWarning: Liblinear failed to converge, increase the number of iterations.\n",
      "  warnings.warn(\n",
      "/Users/vedantmodi/anaconda3/envs/dsci552_hw0/lib/python3.11/site-packages/sklearn/svm/_base.py:1242: ConvergenceWarning: Liblinear failed to converge, increase the number of iterations.\n",
      "  warnings.warn(\n",
      "/Users/vedantmodi/anaconda3/envs/dsci552_hw0/lib/python3.11/site-packages/sklearn/svm/_base.py:1242: ConvergenceWarning: Liblinear failed to converge, increase the number of iterations.\n",
      "  warnings.warn(\n",
      "/Users/vedantmodi/anaconda3/envs/dsci552_hw0/lib/python3.11/site-packages/sklearn/svm/_base.py:1242: ConvergenceWarning: Liblinear failed to converge, increase the number of iterations.\n",
      "  warnings.warn(\n",
      "/Users/vedantmodi/anaconda3/envs/dsci552_hw0/lib/python3.11/site-packages/sklearn/svm/_base.py:1242: ConvergenceWarning: Liblinear failed to converge, increase the number of iterations.\n",
      "  warnings.warn(\n",
      "/Users/vedantmodi/anaconda3/envs/dsci552_hw0/lib/python3.11/site-packages/sklearn/svm/_base.py:1242: ConvergenceWarning: Liblinear failed to converge, increase the number of iterations.\n",
      "  warnings.warn(\n",
      "/Users/vedantmodi/anaconda3/envs/dsci552_hw0/lib/python3.11/site-packages/sklearn/svm/_base.py:1242: ConvergenceWarning: Liblinear failed to converge, increase the number of iterations.\n",
      "  warnings.warn(\n",
      "/Users/vedantmodi/anaconda3/envs/dsci552_hw0/lib/python3.11/site-packages/sklearn/svm/_base.py:1242: ConvergenceWarning: Liblinear failed to converge, increase the number of iterations.\n",
      "  warnings.warn(\n",
      "/Users/vedantmodi/anaconda3/envs/dsci552_hw0/lib/python3.11/site-packages/sklearn/svm/_base.py:1242: ConvergenceWarning: Liblinear failed to converge, increase the number of iterations.\n",
      "  warnings.warn(\n",
      "/Users/vedantmodi/anaconda3/envs/dsci552_hw0/lib/python3.11/site-packages/sklearn/svm/_base.py:1242: ConvergenceWarning: Liblinear failed to converge, increase the number of iterations.\n",
      "  warnings.warn(\n",
      "/Users/vedantmodi/anaconda3/envs/dsci552_hw0/lib/python3.11/site-packages/sklearn/svm/_base.py:1242: ConvergenceWarning: Liblinear failed to converge, increase the number of iterations.\n",
      "  warnings.warn(\n",
      "/Users/vedantmodi/anaconda3/envs/dsci552_hw0/lib/python3.11/site-packages/sklearn/svm/_base.py:1242: ConvergenceWarning: Liblinear failed to converge, increase the number of iterations.\n",
      "  warnings.warn(\n",
      "/Users/vedantmodi/anaconda3/envs/dsci552_hw0/lib/python3.11/site-packages/sklearn/svm/_base.py:1242: ConvergenceWarning: Liblinear failed to converge, increase the number of iterations.\n",
      "  warnings.warn(\n"
     ]
    }
   ],
   "source": [
    "smote = SMOTE(random_state=42)\n",
    "trainX_resampled, trainSpecies_resampled = smote.fit_resample(trainX, trainSpecies)\n",
    "\n",
    "svm_species = LinearSVC(penalty='l1', dual=False, max_iter=10000)  \n",
    "\n",
    "param_grid_C =  {'C': [0.01, 0.1, 1, 10, 100, 1000]}\n",
    "cv = 10\n",
    "\n",
    "svm_species_cv = GridSearchCV(svm_species, param_grid_C, cv=cv, n_jobs=-1)\n",
    "\n",
    "svm_species_cv.fit(trainX_resampled, trainSpecies_resampled)\n",
    "\n",
    "best_C_species = svm_species_cv.best_params_['C']\n",
    "\n",
    "svm_species = LinearSVC(C=best_C_species, penalty='l1', dual=False, max_iter=10000)\n",
    "\n",
    "svm_species.fit(trainX_resampled, trainSpecies_resampled)\n",
    "\n",
    "pred_species = svm_species.predict(testX)"
   ]
  },
  {
   "cell_type": "code",
   "execution_count": 15,
   "metadata": {},
   "outputs": [
    {
     "name": "stdout",
     "output_type": "stream",
     "text": [
      "Best hyperparameters for Family: C = 100 on Standardized Data using L1-penalized SVMs with SMOTE\n",
      "Best hyperparameters for Genus: C = 100 on Standardized Data using L1-penalized SVMs with SMOTE\n",
      "Best hyperparameters for Species: C = 1000 on Standardized Data using L1-penalized SVMs with SMOTE\n",
      "Exact Match Ratio: 0.8550\n",
      "Hamming Score: 2.7726\n"
     ]
    }
   ],
   "source": [
    "exact_match_ratio = np.all([testFamily == pred_family, testGenus == pred_genus, testSpecies == pred_species], axis=0).mean()\n",
    "\n",
    "hamming_score = 1 - hamming_loss(testFamily, pred_family) + 1 - hamming_loss(testGenus, pred_genus) + 1 - hamming_loss(testSpecies, pred_species)\n",
    "\n",
    "print(f\"Best hyperparameters for Family: C = {best_C_family} on Standardized Data using L1-penalized SVMs with SMOTE\")\n",
    "print(f\"Best hyperparameters for Genus: C = {best_C_genus} on Standardized Data using L1-penalized SVMs with SMOTE\")\n",
    "print(f\"Best hyperparameters for Species: C = {best_C_species} on Standardized Data using L1-penalized SVMs with SMOTE\")\n",
    "print(f\"Exact Match Ratio: {exact_match_ratio:.4f}\")\n",
    "print(f\"Hamming Score: {hamming_score:.4f}\")"
   ]
  },
  {
   "cell_type": "markdown",
   "metadata": {},
   "source": [
    "## 2. K-Means Clustering on a Multi-Class and Multi-Label Data Set"
   ]
  },
  {
   "cell_type": "markdown",
   "metadata": {},
   "source": [
    "### (a) Use k-means clustering"
   ]
  },
  {
   "cell_type": "code",
   "execution_count": 16,
   "metadata": {},
   "outputs": [],
   "source": [
    "X = DF.iloc[:, :-4]\n",
    "Y = DF.iloc[:, -4:-1]\n",
    "hamming_distances = []\n",
    "hamming_losses = []"
   ]
  },
  {
   "cell_type": "code",
   "execution_count": 20,
   "metadata": {},
   "outputs": [
    {
     "name": "stderr",
     "output_type": "stream",
     "text": [
      "/Users/vedantmodi/anaconda3/envs/dsci552_hw0/lib/python3.11/site-packages/sklearn/cluster/_kmeans.py:1412: FutureWarning: The default value of `n_init` will change from 10 to 'auto' in 1.4. Set the value of `n_init` explicitly to suppress the warning\n",
      "  super()._check_params_vs_input(X, default_n_init=10)\n"
     ]
    },
    {
     "name": "stdout",
     "output_type": "stream",
     "text": [
      "Iteration 1:\n",
      "  - Optimal K: 4\n",
      "  - Hamming Distance: 3.333333333333333\n",
      "  - Hamming Loss: 0.00046328468844104696\n",
      "\n"
     ]
    },
    {
     "name": "stderr",
     "output_type": "stream",
     "text": [
      "/Users/vedantmodi/anaconda3/envs/dsci552_hw0/lib/python3.11/site-packages/sklearn/cluster/_kmeans.py:1412: FutureWarning: The default value of `n_init` will change from 10 to 'auto' in 1.4. Set the value of `n_init` explicitly to suppress the warning\n",
      "  super()._check_params_vs_input(X, default_n_init=10)\n"
     ]
    },
    {
     "name": "stdout",
     "output_type": "stream",
     "text": [
      "Iteration 2:\n",
      "  - Optimal K: 4\n",
      "  - Hamming Distance: 3.333333333333333\n",
      "  - Hamming Loss: 0.00046328468844104696\n",
      "\n"
     ]
    },
    {
     "name": "stderr",
     "output_type": "stream",
     "text": [
      "/Users/vedantmodi/anaconda3/envs/dsci552_hw0/lib/python3.11/site-packages/sklearn/cluster/_kmeans.py:1412: FutureWarning: The default value of `n_init` will change from 10 to 'auto' in 1.4. Set the value of `n_init` explicitly to suppress the warning\n",
      "  super()._check_params_vs_input(X, default_n_init=10)\n"
     ]
    },
    {
     "name": "stdout",
     "output_type": "stream",
     "text": [
      "Iteration 3:\n",
      "  - Optimal K: 4\n",
      "  - Hamming Distance: 3.333333333333333\n",
      "  - Hamming Loss: 0.00046328468844104696\n",
      "\n"
     ]
    },
    {
     "name": "stderr",
     "output_type": "stream",
     "text": [
      "/Users/vedantmodi/anaconda3/envs/dsci552_hw0/lib/python3.11/site-packages/sklearn/cluster/_kmeans.py:1412: FutureWarning: The default value of `n_init` will change from 10 to 'auto' in 1.4. Set the value of `n_init` explicitly to suppress the warning\n",
      "  super()._check_params_vs_input(X, default_n_init=10)\n"
     ]
    },
    {
     "name": "stdout",
     "output_type": "stream",
     "text": [
      "Iteration 4:\n",
      "  - Optimal K: 4\n",
      "  - Hamming Distance: 3.333333333333333\n",
      "  - Hamming Loss: 0.00046328468844104696\n",
      "\n"
     ]
    },
    {
     "name": "stderr",
     "output_type": "stream",
     "text": [
      "/Users/vedantmodi/anaconda3/envs/dsci552_hw0/lib/python3.11/site-packages/sklearn/cluster/_kmeans.py:1412: FutureWarning: The default value of `n_init` will change from 10 to 'auto' in 1.4. Set the value of `n_init` explicitly to suppress the warning\n",
      "  super()._check_params_vs_input(X, default_n_init=10)\n"
     ]
    },
    {
     "name": "stdout",
     "output_type": "stream",
     "text": [
      "Iteration 5:\n",
      "  - Optimal K: 4\n",
      "  - Hamming Distance: 3.333333333333333\n",
      "  - Hamming Loss: 0.00046328468844104696\n",
      "\n"
     ]
    },
    {
     "name": "stderr",
     "output_type": "stream",
     "text": [
      "/Users/vedantmodi/anaconda3/envs/dsci552_hw0/lib/python3.11/site-packages/sklearn/cluster/_kmeans.py:1412: FutureWarning: The default value of `n_init` will change from 10 to 'auto' in 1.4. Set the value of `n_init` explicitly to suppress the warning\n",
      "  super()._check_params_vs_input(X, default_n_init=10)\n"
     ]
    },
    {
     "name": "stdout",
     "output_type": "stream",
     "text": [
      "Iteration 6:\n",
      "  - Optimal K: 4\n",
      "  - Hamming Distance: 3.333333333333333\n",
      "  - Hamming Loss: 0.00046328468844104696\n",
      "\n"
     ]
    },
    {
     "name": "stderr",
     "output_type": "stream",
     "text": [
      "/Users/vedantmodi/anaconda3/envs/dsci552_hw0/lib/python3.11/site-packages/sklearn/cluster/_kmeans.py:1412: FutureWarning: The default value of `n_init` will change from 10 to 'auto' in 1.4. Set the value of `n_init` explicitly to suppress the warning\n",
      "  super()._check_params_vs_input(X, default_n_init=10)\n"
     ]
    },
    {
     "name": "stdout",
     "output_type": "stream",
     "text": [
      "Iteration 7:\n",
      "  - Optimal K: 4\n",
      "  - Hamming Distance: 3.333333333333333\n",
      "  - Hamming Loss: 0.00046328468844104696\n",
      "\n"
     ]
    },
    {
     "name": "stderr",
     "output_type": "stream",
     "text": [
      "/Users/vedantmodi/anaconda3/envs/dsci552_hw0/lib/python3.11/site-packages/sklearn/cluster/_kmeans.py:1412: FutureWarning: The default value of `n_init` will change from 10 to 'auto' in 1.4. Set the value of `n_init` explicitly to suppress the warning\n",
      "  super()._check_params_vs_input(X, default_n_init=10)\n"
     ]
    },
    {
     "name": "stdout",
     "output_type": "stream",
     "text": [
      "Iteration 8:\n",
      "  - Optimal K: 4\n",
      "  - Hamming Distance: 3.333333333333333\n",
      "  - Hamming Loss: 0.00046328468844104696\n",
      "\n"
     ]
    },
    {
     "name": "stderr",
     "output_type": "stream",
     "text": [
      "/Users/vedantmodi/anaconda3/envs/dsci552_hw0/lib/python3.11/site-packages/sklearn/cluster/_kmeans.py:1412: FutureWarning: The default value of `n_init` will change from 10 to 'auto' in 1.4. Set the value of `n_init` explicitly to suppress the warning\n",
      "  super()._check_params_vs_input(X, default_n_init=10)\n"
     ]
    },
    {
     "name": "stdout",
     "output_type": "stream",
     "text": [
      "Iteration 9:\n",
      "  - Optimal K: 4\n",
      "  - Hamming Distance: 3.333333333333333\n",
      "  - Hamming Loss: 0.00046328468844104696\n",
      "\n"
     ]
    },
    {
     "name": "stderr",
     "output_type": "stream",
     "text": [
      "/Users/vedantmodi/anaconda3/envs/dsci552_hw0/lib/python3.11/site-packages/sklearn/cluster/_kmeans.py:1412: FutureWarning: The default value of `n_init` will change from 10 to 'auto' in 1.4. Set the value of `n_init` explicitly to suppress the warning\n",
      "  super()._check_params_vs_input(X, default_n_init=10)\n"
     ]
    },
    {
     "name": "stdout",
     "output_type": "stream",
     "text": [
      "Iteration 10:\n",
      "  - Optimal K: 4\n",
      "  - Hamming Distance: 3.333333333333333\n",
      "  - Hamming Loss: 0.00046328468844104696\n",
      "\n"
     ]
    },
    {
     "name": "stderr",
     "output_type": "stream",
     "text": [
      "/Users/vedantmodi/anaconda3/envs/dsci552_hw0/lib/python3.11/site-packages/sklearn/cluster/_kmeans.py:1412: FutureWarning: The default value of `n_init` will change from 10 to 'auto' in 1.4. Set the value of `n_init` explicitly to suppress the warning\n",
      "  super()._check_params_vs_input(X, default_n_init=10)\n"
     ]
    },
    {
     "name": "stdout",
     "output_type": "stream",
     "text": [
      "Iteration 11:\n",
      "  - Optimal K: 4\n",
      "  - Hamming Distance: 3.333333333333333\n",
      "  - Hamming Loss: 0.00046328468844104696\n",
      "\n"
     ]
    },
    {
     "name": "stderr",
     "output_type": "stream",
     "text": [
      "/Users/vedantmodi/anaconda3/envs/dsci552_hw0/lib/python3.11/site-packages/sklearn/cluster/_kmeans.py:1412: FutureWarning: The default value of `n_init` will change from 10 to 'auto' in 1.4. Set the value of `n_init` explicitly to suppress the warning\n",
      "  super()._check_params_vs_input(X, default_n_init=10)\n"
     ]
    },
    {
     "name": "stdout",
     "output_type": "stream",
     "text": [
      "Iteration 12:\n",
      "  - Optimal K: 4\n",
      "  - Hamming Distance: 3.333333333333333\n",
      "  - Hamming Loss: 0.00046328468844104696\n",
      "\n"
     ]
    },
    {
     "name": "stderr",
     "output_type": "stream",
     "text": [
      "/Users/vedantmodi/anaconda3/envs/dsci552_hw0/lib/python3.11/site-packages/sklearn/cluster/_kmeans.py:1412: FutureWarning: The default value of `n_init` will change from 10 to 'auto' in 1.4. Set the value of `n_init` explicitly to suppress the warning\n",
      "  super()._check_params_vs_input(X, default_n_init=10)\n"
     ]
    },
    {
     "name": "stdout",
     "output_type": "stream",
     "text": [
      "Iteration 13:\n",
      "  - Optimal K: 4\n",
      "  - Hamming Distance: 3.333333333333333\n",
      "  - Hamming Loss: 0.00046328468844104696\n",
      "\n"
     ]
    },
    {
     "name": "stderr",
     "output_type": "stream",
     "text": [
      "/Users/vedantmodi/anaconda3/envs/dsci552_hw0/lib/python3.11/site-packages/sklearn/cluster/_kmeans.py:1412: FutureWarning: The default value of `n_init` will change from 10 to 'auto' in 1.4. Set the value of `n_init` explicitly to suppress the warning\n",
      "  super()._check_params_vs_input(X, default_n_init=10)\n"
     ]
    },
    {
     "name": "stdout",
     "output_type": "stream",
     "text": [
      "Iteration 14:\n",
      "  - Optimal K: 4\n",
      "  - Hamming Distance: 3.333333333333333\n",
      "  - Hamming Loss: 0.00046328468844104696\n",
      "\n"
     ]
    },
    {
     "name": "stderr",
     "output_type": "stream",
     "text": [
      "/Users/vedantmodi/anaconda3/envs/dsci552_hw0/lib/python3.11/site-packages/sklearn/cluster/_kmeans.py:1412: FutureWarning: The default value of `n_init` will change from 10 to 'auto' in 1.4. Set the value of `n_init` explicitly to suppress the warning\n",
      "  super()._check_params_vs_input(X, default_n_init=10)\n"
     ]
    },
    {
     "name": "stdout",
     "output_type": "stream",
     "text": [
      "Iteration 15:\n",
      "  - Optimal K: 4\n",
      "  - Hamming Distance: 3.333333333333333\n",
      "  - Hamming Loss: 0.00046328468844104696\n",
      "\n"
     ]
    },
    {
     "name": "stderr",
     "output_type": "stream",
     "text": [
      "/Users/vedantmodi/anaconda3/envs/dsci552_hw0/lib/python3.11/site-packages/sklearn/cluster/_kmeans.py:1412: FutureWarning: The default value of `n_init` will change from 10 to 'auto' in 1.4. Set the value of `n_init` explicitly to suppress the warning\n",
      "  super()._check_params_vs_input(X, default_n_init=10)\n"
     ]
    },
    {
     "name": "stdout",
     "output_type": "stream",
     "text": [
      "Iteration 16:\n",
      "  - Optimal K: 4\n",
      "  - Hamming Distance: 3.333333333333333\n",
      "  - Hamming Loss: 0.00046328468844104696\n",
      "\n"
     ]
    },
    {
     "name": "stderr",
     "output_type": "stream",
     "text": [
      "/Users/vedantmodi/anaconda3/envs/dsci552_hw0/lib/python3.11/site-packages/sklearn/cluster/_kmeans.py:1412: FutureWarning: The default value of `n_init` will change from 10 to 'auto' in 1.4. Set the value of `n_init` explicitly to suppress the warning\n",
      "  super()._check_params_vs_input(X, default_n_init=10)\n"
     ]
    },
    {
     "name": "stdout",
     "output_type": "stream",
     "text": [
      "Iteration 17:\n",
      "  - Optimal K: 4\n",
      "  - Hamming Distance: 3.333333333333333\n",
      "  - Hamming Loss: 0.00046328468844104696\n",
      "\n"
     ]
    },
    {
     "name": "stderr",
     "output_type": "stream",
     "text": [
      "/Users/vedantmodi/anaconda3/envs/dsci552_hw0/lib/python3.11/site-packages/sklearn/cluster/_kmeans.py:1412: FutureWarning: The default value of `n_init` will change from 10 to 'auto' in 1.4. Set the value of `n_init` explicitly to suppress the warning\n",
      "  super()._check_params_vs_input(X, default_n_init=10)\n"
     ]
    },
    {
     "name": "stdout",
     "output_type": "stream",
     "text": [
      "Iteration 18:\n",
      "  - Optimal K: 4\n",
      "  - Hamming Distance: 3.333333333333333\n",
      "  - Hamming Loss: 0.00046328468844104696\n",
      "\n"
     ]
    },
    {
     "name": "stderr",
     "output_type": "stream",
     "text": [
      "/Users/vedantmodi/anaconda3/envs/dsci552_hw0/lib/python3.11/site-packages/sklearn/cluster/_kmeans.py:1412: FutureWarning: The default value of `n_init` will change from 10 to 'auto' in 1.4. Set the value of `n_init` explicitly to suppress the warning\n",
      "  super()._check_params_vs_input(X, default_n_init=10)\n"
     ]
    },
    {
     "name": "stdout",
     "output_type": "stream",
     "text": [
      "Iteration 19:\n",
      "  - Optimal K: 4\n",
      "  - Hamming Distance: 3.333333333333333\n",
      "  - Hamming Loss: 0.00046328468844104696\n",
      "\n"
     ]
    },
    {
     "name": "stderr",
     "output_type": "stream",
     "text": [
      "/Users/vedantmodi/anaconda3/envs/dsci552_hw0/lib/python3.11/site-packages/sklearn/cluster/_kmeans.py:1412: FutureWarning: The default value of `n_init` will change from 10 to 'auto' in 1.4. Set the value of `n_init` explicitly to suppress the warning\n",
      "  super()._check_params_vs_input(X, default_n_init=10)\n"
     ]
    },
    {
     "name": "stdout",
     "output_type": "stream",
     "text": [
      "Iteration 20:\n",
      "  - Optimal K: 4\n",
      "  - Hamming Distance: 3.333333333333333\n",
      "  - Hamming Loss: 0.00046328468844104696\n",
      "\n"
     ]
    },
    {
     "name": "stderr",
     "output_type": "stream",
     "text": [
      "/Users/vedantmodi/anaconda3/envs/dsci552_hw0/lib/python3.11/site-packages/sklearn/cluster/_kmeans.py:1412: FutureWarning: The default value of `n_init` will change from 10 to 'auto' in 1.4. Set the value of `n_init` explicitly to suppress the warning\n",
      "  super()._check_params_vs_input(X, default_n_init=10)\n"
     ]
    },
    {
     "name": "stdout",
     "output_type": "stream",
     "text": [
      "Iteration 21:\n",
      "  - Optimal K: 4\n",
      "  - Hamming Distance: 3.333333333333333\n",
      "  - Hamming Loss: 0.00046328468844104696\n",
      "\n"
     ]
    },
    {
     "name": "stderr",
     "output_type": "stream",
     "text": [
      "/Users/vedantmodi/anaconda3/envs/dsci552_hw0/lib/python3.11/site-packages/sklearn/cluster/_kmeans.py:1412: FutureWarning: The default value of `n_init` will change from 10 to 'auto' in 1.4. Set the value of `n_init` explicitly to suppress the warning\n",
      "  super()._check_params_vs_input(X, default_n_init=10)\n"
     ]
    },
    {
     "name": "stdout",
     "output_type": "stream",
     "text": [
      "Iteration 22:\n",
      "  - Optimal K: 4\n",
      "  - Hamming Distance: 3.333333333333333\n",
      "  - Hamming Loss: 0.00046328468844104696\n",
      "\n"
     ]
    },
    {
     "name": "stderr",
     "output_type": "stream",
     "text": [
      "/Users/vedantmodi/anaconda3/envs/dsci552_hw0/lib/python3.11/site-packages/sklearn/cluster/_kmeans.py:1412: FutureWarning: The default value of `n_init` will change from 10 to 'auto' in 1.4. Set the value of `n_init` explicitly to suppress the warning\n",
      "  super()._check_params_vs_input(X, default_n_init=10)\n"
     ]
    },
    {
     "name": "stdout",
     "output_type": "stream",
     "text": [
      "Iteration 23:\n",
      "  - Optimal K: 4\n",
      "  - Hamming Distance: 3.333333333333333\n",
      "  - Hamming Loss: 0.00046328468844104696\n",
      "\n"
     ]
    },
    {
     "name": "stderr",
     "output_type": "stream",
     "text": [
      "/Users/vedantmodi/anaconda3/envs/dsci552_hw0/lib/python3.11/site-packages/sklearn/cluster/_kmeans.py:1412: FutureWarning: The default value of `n_init` will change from 10 to 'auto' in 1.4. Set the value of `n_init` explicitly to suppress the warning\n",
      "  super()._check_params_vs_input(X, default_n_init=10)\n"
     ]
    },
    {
     "name": "stdout",
     "output_type": "stream",
     "text": [
      "Iteration 24:\n",
      "  - Optimal K: 4\n",
      "  - Hamming Distance: 3.333333333333333\n",
      "  - Hamming Loss: 0.00046328468844104696\n",
      "\n"
     ]
    },
    {
     "name": "stderr",
     "output_type": "stream",
     "text": [
      "/Users/vedantmodi/anaconda3/envs/dsci552_hw0/lib/python3.11/site-packages/sklearn/cluster/_kmeans.py:1412: FutureWarning: The default value of `n_init` will change from 10 to 'auto' in 1.4. Set the value of `n_init` explicitly to suppress the warning\n",
      "  super()._check_params_vs_input(X, default_n_init=10)\n"
     ]
    },
    {
     "name": "stdout",
     "output_type": "stream",
     "text": [
      "Iteration 25:\n",
      "  - Optimal K: 4\n",
      "  - Hamming Distance: 3.333333333333333\n",
      "  - Hamming Loss: 0.00046328468844104696\n",
      "\n"
     ]
    },
    {
     "name": "stderr",
     "output_type": "stream",
     "text": [
      "/Users/vedantmodi/anaconda3/envs/dsci552_hw0/lib/python3.11/site-packages/sklearn/cluster/_kmeans.py:1412: FutureWarning: The default value of `n_init` will change from 10 to 'auto' in 1.4. Set the value of `n_init` explicitly to suppress the warning\n",
      "  super()._check_params_vs_input(X, default_n_init=10)\n"
     ]
    },
    {
     "name": "stdout",
     "output_type": "stream",
     "text": [
      "Iteration 26:\n",
      "  - Optimal K: 4\n",
      "  - Hamming Distance: 3.333333333333333\n",
      "  - Hamming Loss: 0.00046328468844104696\n",
      "\n"
     ]
    },
    {
     "name": "stderr",
     "output_type": "stream",
     "text": [
      "/Users/vedantmodi/anaconda3/envs/dsci552_hw0/lib/python3.11/site-packages/sklearn/cluster/_kmeans.py:1412: FutureWarning: The default value of `n_init` will change from 10 to 'auto' in 1.4. Set the value of `n_init` explicitly to suppress the warning\n",
      "  super()._check_params_vs_input(X, default_n_init=10)\n"
     ]
    },
    {
     "name": "stdout",
     "output_type": "stream",
     "text": [
      "Iteration 27:\n",
      "  - Optimal K: 4\n",
      "  - Hamming Distance: 3.333333333333333\n",
      "  - Hamming Loss: 0.00046328468844104696\n",
      "\n"
     ]
    },
    {
     "name": "stderr",
     "output_type": "stream",
     "text": [
      "/Users/vedantmodi/anaconda3/envs/dsci552_hw0/lib/python3.11/site-packages/sklearn/cluster/_kmeans.py:1412: FutureWarning: The default value of `n_init` will change from 10 to 'auto' in 1.4. Set the value of `n_init` explicitly to suppress the warning\n",
      "  super()._check_params_vs_input(X, default_n_init=10)\n"
     ]
    },
    {
     "name": "stdout",
     "output_type": "stream",
     "text": [
      "Iteration 28:\n",
      "  - Optimal K: 4\n",
      "  - Hamming Distance: 3.333333333333333\n",
      "  - Hamming Loss: 0.00046328468844104696\n",
      "\n"
     ]
    },
    {
     "name": "stderr",
     "output_type": "stream",
     "text": [
      "/Users/vedantmodi/anaconda3/envs/dsci552_hw0/lib/python3.11/site-packages/sklearn/cluster/_kmeans.py:1412: FutureWarning: The default value of `n_init` will change from 10 to 'auto' in 1.4. Set the value of `n_init` explicitly to suppress the warning\n",
      "  super()._check_params_vs_input(X, default_n_init=10)\n"
     ]
    },
    {
     "name": "stdout",
     "output_type": "stream",
     "text": [
      "Iteration 29:\n",
      "  - Optimal K: 4\n",
      "  - Hamming Distance: 3.333333333333333\n",
      "  - Hamming Loss: 0.00046328468844104696\n",
      "\n"
     ]
    },
    {
     "name": "stderr",
     "output_type": "stream",
     "text": [
      "/Users/vedantmodi/anaconda3/envs/dsci552_hw0/lib/python3.11/site-packages/sklearn/cluster/_kmeans.py:1412: FutureWarning: The default value of `n_init` will change from 10 to 'auto' in 1.4. Set the value of `n_init` explicitly to suppress the warning\n",
      "  super()._check_params_vs_input(X, default_n_init=10)\n"
     ]
    },
    {
     "name": "stdout",
     "output_type": "stream",
     "text": [
      "Iteration 30:\n",
      "  - Optimal K: 4\n",
      "  - Hamming Distance: 3.333333333333333\n",
      "  - Hamming Loss: 0.00046328468844104696\n",
      "\n"
     ]
    },
    {
     "name": "stderr",
     "output_type": "stream",
     "text": [
      "/Users/vedantmodi/anaconda3/envs/dsci552_hw0/lib/python3.11/site-packages/sklearn/cluster/_kmeans.py:1412: FutureWarning: The default value of `n_init` will change from 10 to 'auto' in 1.4. Set the value of `n_init` explicitly to suppress the warning\n",
      "  super()._check_params_vs_input(X, default_n_init=10)\n"
     ]
    },
    {
     "name": "stdout",
     "output_type": "stream",
     "text": [
      "Iteration 31:\n",
      "  - Optimal K: 4\n",
      "  - Hamming Distance: 3.333333333333333\n",
      "  - Hamming Loss: 0.00046328468844104696\n",
      "\n"
     ]
    },
    {
     "name": "stderr",
     "output_type": "stream",
     "text": [
      "/Users/vedantmodi/anaconda3/envs/dsci552_hw0/lib/python3.11/site-packages/sklearn/cluster/_kmeans.py:1412: FutureWarning: The default value of `n_init` will change from 10 to 'auto' in 1.4. Set the value of `n_init` explicitly to suppress the warning\n",
      "  super()._check_params_vs_input(X, default_n_init=10)\n"
     ]
    },
    {
     "name": "stdout",
     "output_type": "stream",
     "text": [
      "Iteration 32:\n",
      "  - Optimal K: 4\n",
      "  - Hamming Distance: 3.333333333333333\n",
      "  - Hamming Loss: 0.00046328468844104696\n",
      "\n"
     ]
    },
    {
     "name": "stderr",
     "output_type": "stream",
     "text": [
      "/Users/vedantmodi/anaconda3/envs/dsci552_hw0/lib/python3.11/site-packages/sklearn/cluster/_kmeans.py:1412: FutureWarning: The default value of `n_init` will change from 10 to 'auto' in 1.4. Set the value of `n_init` explicitly to suppress the warning\n",
      "  super()._check_params_vs_input(X, default_n_init=10)\n"
     ]
    },
    {
     "name": "stdout",
     "output_type": "stream",
     "text": [
      "Iteration 33:\n",
      "  - Optimal K: 4\n",
      "  - Hamming Distance: 3.333333333333333\n",
      "  - Hamming Loss: 0.00046328468844104696\n",
      "\n"
     ]
    },
    {
     "name": "stderr",
     "output_type": "stream",
     "text": [
      "/Users/vedantmodi/anaconda3/envs/dsci552_hw0/lib/python3.11/site-packages/sklearn/cluster/_kmeans.py:1412: FutureWarning: The default value of `n_init` will change from 10 to 'auto' in 1.4. Set the value of `n_init` explicitly to suppress the warning\n",
      "  super()._check_params_vs_input(X, default_n_init=10)\n"
     ]
    },
    {
     "name": "stdout",
     "output_type": "stream",
     "text": [
      "Iteration 34:\n",
      "  - Optimal K: 4\n",
      "  - Hamming Distance: 3.333333333333333\n",
      "  - Hamming Loss: 0.00046328468844104696\n",
      "\n"
     ]
    },
    {
     "name": "stderr",
     "output_type": "stream",
     "text": [
      "/Users/vedantmodi/anaconda3/envs/dsci552_hw0/lib/python3.11/site-packages/sklearn/cluster/_kmeans.py:1412: FutureWarning: The default value of `n_init` will change from 10 to 'auto' in 1.4. Set the value of `n_init` explicitly to suppress the warning\n",
      "  super()._check_params_vs_input(X, default_n_init=10)\n"
     ]
    },
    {
     "name": "stdout",
     "output_type": "stream",
     "text": [
      "Iteration 35:\n",
      "  - Optimal K: 4\n",
      "  - Hamming Distance: 3.333333333333333\n",
      "  - Hamming Loss: 0.00046328468844104696\n",
      "\n"
     ]
    },
    {
     "name": "stderr",
     "output_type": "stream",
     "text": [
      "/Users/vedantmodi/anaconda3/envs/dsci552_hw0/lib/python3.11/site-packages/sklearn/cluster/_kmeans.py:1412: FutureWarning: The default value of `n_init` will change from 10 to 'auto' in 1.4. Set the value of `n_init` explicitly to suppress the warning\n",
      "  super()._check_params_vs_input(X, default_n_init=10)\n"
     ]
    },
    {
     "name": "stdout",
     "output_type": "stream",
     "text": [
      "Iteration 36:\n",
      "  - Optimal K: 4\n",
      "  - Hamming Distance: 3.333333333333333\n",
      "  - Hamming Loss: 0.00046328468844104696\n",
      "\n"
     ]
    },
    {
     "name": "stderr",
     "output_type": "stream",
     "text": [
      "/Users/vedantmodi/anaconda3/envs/dsci552_hw0/lib/python3.11/site-packages/sklearn/cluster/_kmeans.py:1412: FutureWarning: The default value of `n_init` will change from 10 to 'auto' in 1.4. Set the value of `n_init` explicitly to suppress the warning\n",
      "  super()._check_params_vs_input(X, default_n_init=10)\n"
     ]
    },
    {
     "name": "stdout",
     "output_type": "stream",
     "text": [
      "Iteration 37:\n",
      "  - Optimal K: 4\n",
      "  - Hamming Distance: 3.333333333333333\n",
      "  - Hamming Loss: 0.00046328468844104696\n",
      "\n"
     ]
    },
    {
     "name": "stderr",
     "output_type": "stream",
     "text": [
      "/Users/vedantmodi/anaconda3/envs/dsci552_hw0/lib/python3.11/site-packages/sklearn/cluster/_kmeans.py:1412: FutureWarning: The default value of `n_init` will change from 10 to 'auto' in 1.4. Set the value of `n_init` explicitly to suppress the warning\n",
      "  super()._check_params_vs_input(X, default_n_init=10)\n"
     ]
    },
    {
     "name": "stdout",
     "output_type": "stream",
     "text": [
      "Iteration 38:\n",
      "  - Optimal K: 4\n",
      "  - Hamming Distance: 3.333333333333333\n",
      "  - Hamming Loss: 0.00046328468844104696\n",
      "\n"
     ]
    },
    {
     "name": "stderr",
     "output_type": "stream",
     "text": [
      "/Users/vedantmodi/anaconda3/envs/dsci552_hw0/lib/python3.11/site-packages/sklearn/cluster/_kmeans.py:1412: FutureWarning: The default value of `n_init` will change from 10 to 'auto' in 1.4. Set the value of `n_init` explicitly to suppress the warning\n",
      "  super()._check_params_vs_input(X, default_n_init=10)\n"
     ]
    },
    {
     "name": "stdout",
     "output_type": "stream",
     "text": [
      "Iteration 39:\n",
      "  - Optimal K: 4\n",
      "  - Hamming Distance: 3.333333333333333\n",
      "  - Hamming Loss: 0.00046328468844104696\n",
      "\n"
     ]
    },
    {
     "name": "stderr",
     "output_type": "stream",
     "text": [
      "/Users/vedantmodi/anaconda3/envs/dsci552_hw0/lib/python3.11/site-packages/sklearn/cluster/_kmeans.py:1412: FutureWarning: The default value of `n_init` will change from 10 to 'auto' in 1.4. Set the value of `n_init` explicitly to suppress the warning\n",
      "  super()._check_params_vs_input(X, default_n_init=10)\n"
     ]
    },
    {
     "name": "stdout",
     "output_type": "stream",
     "text": [
      "Iteration 40:\n",
      "  - Optimal K: 4\n",
      "  - Hamming Distance: 3.333333333333333\n",
      "  - Hamming Loss: 0.00046328468844104696\n",
      "\n"
     ]
    },
    {
     "name": "stderr",
     "output_type": "stream",
     "text": [
      "/Users/vedantmodi/anaconda3/envs/dsci552_hw0/lib/python3.11/site-packages/sklearn/cluster/_kmeans.py:1412: FutureWarning: The default value of `n_init` will change from 10 to 'auto' in 1.4. Set the value of `n_init` explicitly to suppress the warning\n",
      "  super()._check_params_vs_input(X, default_n_init=10)\n"
     ]
    },
    {
     "name": "stdout",
     "output_type": "stream",
     "text": [
      "Iteration 41:\n",
      "  - Optimal K: 4\n",
      "  - Hamming Distance: 3.333333333333333\n",
      "  - Hamming Loss: 0.00046328468844104696\n",
      "\n"
     ]
    },
    {
     "name": "stderr",
     "output_type": "stream",
     "text": [
      "/Users/vedantmodi/anaconda3/envs/dsci552_hw0/lib/python3.11/site-packages/sklearn/cluster/_kmeans.py:1412: FutureWarning: The default value of `n_init` will change from 10 to 'auto' in 1.4. Set the value of `n_init` explicitly to suppress the warning\n",
      "  super()._check_params_vs_input(X, default_n_init=10)\n"
     ]
    },
    {
     "name": "stdout",
     "output_type": "stream",
     "text": [
      "Iteration 42:\n",
      "  - Optimal K: 4\n",
      "  - Hamming Distance: 3.333333333333333\n",
      "  - Hamming Loss: 0.00046328468844104696\n",
      "\n"
     ]
    },
    {
     "name": "stderr",
     "output_type": "stream",
     "text": [
      "/Users/vedantmodi/anaconda3/envs/dsci552_hw0/lib/python3.11/site-packages/sklearn/cluster/_kmeans.py:1412: FutureWarning: The default value of `n_init` will change from 10 to 'auto' in 1.4. Set the value of `n_init` explicitly to suppress the warning\n",
      "  super()._check_params_vs_input(X, default_n_init=10)\n"
     ]
    },
    {
     "name": "stdout",
     "output_type": "stream",
     "text": [
      "Iteration 43:\n",
      "  - Optimal K: 4\n",
      "  - Hamming Distance: 3.333333333333333\n",
      "  - Hamming Loss: 0.00046328468844104696\n",
      "\n"
     ]
    },
    {
     "name": "stderr",
     "output_type": "stream",
     "text": [
      "/Users/vedantmodi/anaconda3/envs/dsci552_hw0/lib/python3.11/site-packages/sklearn/cluster/_kmeans.py:1412: FutureWarning: The default value of `n_init` will change from 10 to 'auto' in 1.4. Set the value of `n_init` explicitly to suppress the warning\n",
      "  super()._check_params_vs_input(X, default_n_init=10)\n"
     ]
    },
    {
     "name": "stdout",
     "output_type": "stream",
     "text": [
      "Iteration 44:\n",
      "  - Optimal K: 4\n",
      "  - Hamming Distance: 3.333333333333333\n",
      "  - Hamming Loss: 0.00046328468844104696\n",
      "\n"
     ]
    },
    {
     "name": "stderr",
     "output_type": "stream",
     "text": [
      "/Users/vedantmodi/anaconda3/envs/dsci552_hw0/lib/python3.11/site-packages/sklearn/cluster/_kmeans.py:1412: FutureWarning: The default value of `n_init` will change from 10 to 'auto' in 1.4. Set the value of `n_init` explicitly to suppress the warning\n",
      "  super()._check_params_vs_input(X, default_n_init=10)\n"
     ]
    },
    {
     "name": "stdout",
     "output_type": "stream",
     "text": [
      "Iteration 45:\n",
      "  - Optimal K: 4\n",
      "  - Hamming Distance: 3.333333333333333\n",
      "  - Hamming Loss: 0.00046328468844104696\n",
      "\n"
     ]
    },
    {
     "name": "stderr",
     "output_type": "stream",
     "text": [
      "/Users/vedantmodi/anaconda3/envs/dsci552_hw0/lib/python3.11/site-packages/sklearn/cluster/_kmeans.py:1412: FutureWarning: The default value of `n_init` will change from 10 to 'auto' in 1.4. Set the value of `n_init` explicitly to suppress the warning\n",
      "  super()._check_params_vs_input(X, default_n_init=10)\n"
     ]
    },
    {
     "name": "stdout",
     "output_type": "stream",
     "text": [
      "Iteration 46:\n",
      "  - Optimal K: 4\n",
      "  - Hamming Distance: 3.333333333333333\n",
      "  - Hamming Loss: 0.00046328468844104696\n",
      "\n"
     ]
    },
    {
     "name": "stderr",
     "output_type": "stream",
     "text": [
      "/Users/vedantmodi/anaconda3/envs/dsci552_hw0/lib/python3.11/site-packages/sklearn/cluster/_kmeans.py:1412: FutureWarning: The default value of `n_init` will change from 10 to 'auto' in 1.4. Set the value of `n_init` explicitly to suppress the warning\n",
      "  super()._check_params_vs_input(X, default_n_init=10)\n"
     ]
    },
    {
     "name": "stdout",
     "output_type": "stream",
     "text": [
      "Iteration 47:\n",
      "  - Optimal K: 4\n",
      "  - Hamming Distance: 3.333333333333333\n",
      "  - Hamming Loss: 0.00046328468844104696\n",
      "\n"
     ]
    },
    {
     "name": "stderr",
     "output_type": "stream",
     "text": [
      "/Users/vedantmodi/anaconda3/envs/dsci552_hw0/lib/python3.11/site-packages/sklearn/cluster/_kmeans.py:1412: FutureWarning: The default value of `n_init` will change from 10 to 'auto' in 1.4. Set the value of `n_init` explicitly to suppress the warning\n",
      "  super()._check_params_vs_input(X, default_n_init=10)\n"
     ]
    },
    {
     "name": "stdout",
     "output_type": "stream",
     "text": [
      "Iteration 48:\n",
      "  - Optimal K: 4\n",
      "  - Hamming Distance: 3.333333333333333\n",
      "  - Hamming Loss: 0.00046328468844104696\n",
      "\n"
     ]
    },
    {
     "name": "stderr",
     "output_type": "stream",
     "text": [
      "/Users/vedantmodi/anaconda3/envs/dsci552_hw0/lib/python3.11/site-packages/sklearn/cluster/_kmeans.py:1412: FutureWarning: The default value of `n_init` will change from 10 to 'auto' in 1.4. Set the value of `n_init` explicitly to suppress the warning\n",
      "  super()._check_params_vs_input(X, default_n_init=10)\n"
     ]
    },
    {
     "name": "stdout",
     "output_type": "stream",
     "text": [
      "Iteration 49:\n",
      "  - Optimal K: 4\n",
      "  - Hamming Distance: 3.333333333333333\n",
      "  - Hamming Loss: 0.00046328468844104696\n",
      "\n"
     ]
    },
    {
     "name": "stderr",
     "output_type": "stream",
     "text": [
      "/Users/vedantmodi/anaconda3/envs/dsci552_hw0/lib/python3.11/site-packages/sklearn/cluster/_kmeans.py:1412: FutureWarning: The default value of `n_init` will change from 10 to 'auto' in 1.4. Set the value of `n_init` explicitly to suppress the warning\n",
      "  super()._check_params_vs_input(X, default_n_init=10)\n"
     ]
    },
    {
     "name": "stdout",
     "output_type": "stream",
     "text": [
      "Iteration 50:\n",
      "  - Optimal K: 4\n",
      "  - Hamming Distance: 3.333333333333333\n",
      "  - Hamming Loss: 0.00046328468844104696\n",
      "\n",
      "Average Hamming Distance: 3.333333333333333\n",
      "Standard Deviation of Hamming Distance: 0.0\n"
     ]
    }
   ],
   "source": [
    "for iteration in range(50):\n",
    "    silhouette_scores = []\n",
    "    for k in range(2, 51):\n",
    "        kmeans = KMeans(n_clusters=k, n_init=10, random_state=42)\n",
    "        clusters = kmeans.fit_predict(X)\n",
    "\n",
    "        silhouette_scores.append((k, silhouette_score(X, clusters)))\n",
    "\n",
    "    best_k = max(silhouette_scores, key=lambda x: x[1])[0]\n",
    "\n",
    "    kmeans = KMeans(n_clusters=best_k, random_state=42)\n",
    "    clusters = kmeans.fit_predict(X)\n",
    "\n",
    "    majority_labels = []\n",
    "    for cluster_id in range(best_k):\n",
    "        true_labels = Y[clusters == cluster_id]\n",
    "\n",
    "        majority_family = true_labels['Family'].mode().iloc[0]\n",
    "        majority_genus = true_labels['Genus'].mode().iloc[0]\n",
    "        majority_species = true_labels['Species'].mode().iloc[0]\n",
    "\n",
    "        majority_labels.append((majority_family, majority_genus, majority_species))\n",
    "\n",
    "    hamming_distance = 0\n",
    "    for cluster_id, majority_label in enumerate(majority_labels):\n",
    "        hamming_distance += hamming(true_labels.iloc[cluster_id], majority_label)\n",
    "        \n",
    "    hamming_loss = hamming_distance / len(Y)\n",
    "    print(f\"Iteration {iteration + 1}:\")\n",
    "    print(f\"  - Optimal K: {best_k}\")\n",
    "    print(f\"  - Hamming Distance: {hamming_distance}\")\n",
    "    print(f\"  - Hamming Loss: {hamming_loss}\")\n",
    "    print(f\"  - Hamming Score: {1 - hamming_loss}\")\n",
    "    \n",
    "    for i in range(best_k):\n",
    "        print(f\"  Cluster \" (i+1))\n",
    "        print(f\"  - Majority Family (cluster): {majority_labels[i][0]}\")\n",
    "        print(f\"  - Majority Genus: {majority_labels[i][1]}\")\n",
    "        print(f\"  - Majority Species: {majority_labels[i][2]}\")\n",
    "\n",
    "    hamming_distances.append(hamming_distance)\n",
    "    hamming_losses.append(hamming_loss)"
   ]
  },
  {
   "cell_type": "markdown",
   "metadata": {},
   "source": [
    "### (b) Determine which family is the majority"
   ]
  },
  {
   "cell_type": "markdown",
   "metadata": {},
   "source": [
    "This has been printed for each iteration above."
   ]
  },
  {
   "cell_type": "markdown",
   "metadata": {},
   "source": [
    "### (c) Calculate the average Hamming distance, Hamming score, and Hamming loss"
   ]
  },
  {
   "cell_type": "code",
   "execution_count": null,
   "metadata": {},
   "outputs": [],
   "source": [
    "average_hamming_distance = np.mean(hamming_distances)\n",
    "std_dev_hamming_distance = np.std(hamming_distances)\n",
    "\n",
    "average_hamming_loss = np.mean(hamming_losses)\n",
    "std_dev_hamming_loss = np.mean(hamming_losses)\n",
    "\n",
    "print(\"Average Hamming Distance:\", average_hamming_distance)\n",
    "print(\"Standard Deviation of Hamming Distance:\", std_dev_hamming_distance)\n",
    "print(\"Average Hamming Loss:\", np.mean(hamming_loss))\n",
    "print(\"Standard Deviation of Hamming Loss:\", np.std(hamming_loss))\n",
    "print(\"Average Hamming Score:\", (1 - np.mean(hamming_loss)))\n",
    "print(\"Standard Deviation of Hamming Score:\", (1 - np.std(hamming_loss)))"
   ]
  },
  {
   "cell_type": "markdown",
   "metadata": {},
   "source": [
    "## 3. ISLR 12.6.2"
   ]
  },
  {
   "cell_type": "markdown",
   "metadata": {},
   "source": []
  }
 ],
 "metadata": {
  "kernelspec": {
   "display_name": "Python 3 (ipykernel)",
   "language": "python",
   "name": "python3"
  },
  "language_info": {
   "codemirror_mode": {
    "name": "ipython",
    "version": 3
   },
   "file_extension": ".py",
   "mimetype": "text/x-python",
   "name": "python",
   "nbconvert_exporter": "python",
   "pygments_lexer": "ipython3",
   "version": "3.11.4"
  },
  "vscode": {
   "interpreter": {
    "hash": "3c20c2d94d2527936fe0f3a300eb11db30fed84423423838e2f93b74eb7aaebc"
   }
  }
 },
 "nbformat": 4,
 "nbformat_minor": 2
}
